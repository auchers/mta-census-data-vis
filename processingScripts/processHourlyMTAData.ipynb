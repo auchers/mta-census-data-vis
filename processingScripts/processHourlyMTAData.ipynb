{
 "cells": [
  {
   "cell_type": "code",
   "execution_count": 1,
   "metadata": {},
   "outputs": [],
   "source": [
    "import pandas as pd\n",
    "import numpy as np\n",
    "from datetime import datetime, timedelta\n",
    "import seaborn as sns\n",
    "pd.options.display.max_rows = 1000"
   ]
  },
  {
   "cell_type": "markdown",
   "metadata": {},
   "source": [
    "note: this notebook heavily leverages [this tutorial](https://www.kaggle.com/nieyuqi/mta-turnstile-data-analysis) as a starting ground for analysis."
   ]
  },
  {
   "cell_type": "code",
   "execution_count": 2,
   "metadata": {},
   "outputs": [],
   "source": [
    "mta = pd.read_csv(\"../data/Turnstiles/Turnstile_Usage_Data__2020.csv\")\n",
    "mta.columns = ['C/A', 'unit', 'SCP', 'station', 'line_name', 'division', 'date',\n",
    "       'time', 'description', 'entries','exits']"
   ]
  },
  {
   "cell_type": "code",
   "execution_count": 3,
   "metadata": {},
   "outputs": [],
   "source": [
    "# create unique turnstile column\n",
    "mta['datetime'] = pd.to_datetime(mta.date + ' ' + mta.time, format='%m/%d/%Y  %H:%M:%S')\n",
    "mta['turnstile'] = mta['C/A'] + '-' + mta.unit + '-' + mta['SCP']\n",
    "mta[\"station_code\"] = mta [\"C/A\"] + mta.unit"
   ]
  },
  {
   "cell_type": "code",
   "execution_count": 4,
   "metadata": {},
   "outputs": [
    {
     "output_type": "execute_result",
     "data": {
      "text/plain": "    C/A  unit       SCP station line_name division        date      time  \\\n0  A002  R051  02-00-00   59 ST   NQR456W      BMT  05/01/2020  00:00:00   \n1  A002  R051  02-00-00   59 ST   NQR456W      BMT  05/01/2020  04:00:00   \n2  A002  R051  02-00-00   59 ST   NQR456W      BMT  05/01/2020  08:00:00   \n3  A002  R051  02-00-00   59 ST   NQR456W      BMT  05/01/2020  12:00:00   \n4  A002  R051  02-00-00   59 ST   NQR456W      BMT  05/01/2020  16:00:00   \n\n  description  entries    exits            datetime           turnstile  \\\n0     REGULAR  7416094  2518392 2020-05-01 00:00:00  A002-R051-02-00-00   \n1     REGULAR  7416096  2518399 2020-05-01 04:00:00  A002-R051-02-00-00   \n2     REGULAR  7416104  2518414 2020-05-01 08:00:00  A002-R051-02-00-00   \n3     REGULAR  7416130  2518439 2020-05-01 12:00:00  A002-R051-02-00-00   \n4     REGULAR  7416169  2518457 2020-05-01 16:00:00  A002-R051-02-00-00   \n\n  station_code  \n0     A002R051  \n1     A002R051  \n2     A002R051  \n3     A002R051  \n4     A002R051  ",
      "text/html": "<div>\n<style scoped>\n    .dataframe tbody tr th:only-of-type {\n        vertical-align: middle;\n    }\n\n    .dataframe tbody tr th {\n        vertical-align: top;\n    }\n\n    .dataframe thead th {\n        text-align: right;\n    }\n</style>\n<table border=\"1\" class=\"dataframe\">\n  <thead>\n    <tr style=\"text-align: right;\">\n      <th></th>\n      <th>C/A</th>\n      <th>unit</th>\n      <th>SCP</th>\n      <th>station</th>\n      <th>line_name</th>\n      <th>division</th>\n      <th>date</th>\n      <th>time</th>\n      <th>description</th>\n      <th>entries</th>\n      <th>exits</th>\n      <th>datetime</th>\n      <th>turnstile</th>\n      <th>station_code</th>\n    </tr>\n  </thead>\n  <tbody>\n    <tr>\n      <th>0</th>\n      <td>A002</td>\n      <td>R051</td>\n      <td>02-00-00</td>\n      <td>59 ST</td>\n      <td>NQR456W</td>\n      <td>BMT</td>\n      <td>05/01/2020</td>\n      <td>00:00:00</td>\n      <td>REGULAR</td>\n      <td>7416094</td>\n      <td>2518392</td>\n      <td>2020-05-01 00:00:00</td>\n      <td>A002-R051-02-00-00</td>\n      <td>A002R051</td>\n    </tr>\n    <tr>\n      <th>1</th>\n      <td>A002</td>\n      <td>R051</td>\n      <td>02-00-00</td>\n      <td>59 ST</td>\n      <td>NQR456W</td>\n      <td>BMT</td>\n      <td>05/01/2020</td>\n      <td>04:00:00</td>\n      <td>REGULAR</td>\n      <td>7416096</td>\n      <td>2518399</td>\n      <td>2020-05-01 04:00:00</td>\n      <td>A002-R051-02-00-00</td>\n      <td>A002R051</td>\n    </tr>\n    <tr>\n      <th>2</th>\n      <td>A002</td>\n      <td>R051</td>\n      <td>02-00-00</td>\n      <td>59 ST</td>\n      <td>NQR456W</td>\n      <td>BMT</td>\n      <td>05/01/2020</td>\n      <td>08:00:00</td>\n      <td>REGULAR</td>\n      <td>7416104</td>\n      <td>2518414</td>\n      <td>2020-05-01 08:00:00</td>\n      <td>A002-R051-02-00-00</td>\n      <td>A002R051</td>\n    </tr>\n    <tr>\n      <th>3</th>\n      <td>A002</td>\n      <td>R051</td>\n      <td>02-00-00</td>\n      <td>59 ST</td>\n      <td>NQR456W</td>\n      <td>BMT</td>\n      <td>05/01/2020</td>\n      <td>12:00:00</td>\n      <td>REGULAR</td>\n      <td>7416130</td>\n      <td>2518439</td>\n      <td>2020-05-01 12:00:00</td>\n      <td>A002-R051-02-00-00</td>\n      <td>A002R051</td>\n    </tr>\n    <tr>\n      <th>4</th>\n      <td>A002</td>\n      <td>R051</td>\n      <td>02-00-00</td>\n      <td>59 ST</td>\n      <td>NQR456W</td>\n      <td>BMT</td>\n      <td>05/01/2020</td>\n      <td>16:00:00</td>\n      <td>REGULAR</td>\n      <td>7416169</td>\n      <td>2518457</td>\n      <td>2020-05-01 16:00:00</td>\n      <td>A002-R051-02-00-00</td>\n      <td>A002R051</td>\n    </tr>\n  </tbody>\n</table>\n</div>"
     },
     "metadata": {},
     "execution_count": 4
    }
   ],
   "source": [
    "mta.head()"
   ]
  },
  {
   "cell_type": "markdown",
   "metadata": {},
   "source": [
    "## 1.1 Calculate Differenced Data\n",
    "`entries` and `exits` are both cumulative values that count up from the previous reading. We need to normalize these to get the incremental difference for each given time period. "
   ]
  },
  {
   "cell_type": "code",
   "execution_count": 5,
   "metadata": {},
   "outputs": [],
   "source": [
    "# group data by turnstile, sort each turnstile by datetime\n",
    "# Create new columns en_diff and ex_diff for each unique turnstile\n",
    "# turn cumulative counts into counts per interval\n",
    "\n",
    "mta_sorted = mta.sort_values([\"turnstile\", \"datetime\"])\n",
    "mta_sorted = mta_sorted.reset_index(drop = True)"
   ]
  },
  {
   "cell_type": "code",
   "execution_count": 6,
   "metadata": {},
   "outputs": [],
   "source": [
    "turnstile_grouped = mta_sorted.groupby([\"turnstile\"])"
   ]
  },
  {
   "cell_type": "code",
   "execution_count": 7,
   "metadata": {},
   "outputs": [],
   "source": [
    "mta_sorted['entries_diff'] = turnstile_grouped['entries'].transform(pd.Series.diff)\n",
    "mta_sorted['exits_diff'] = turnstile_grouped['exits'].transform(pd.Series.diff)"
   ]
  },
  {
   "cell_type": "code",
   "execution_count": 8,
   "metadata": {},
   "outputs": [
    {
     "output_type": "stream",
     "name": "stdout",
     "text": "Number of unqiue turnstiles: 4985\nNumber of NaN rows: 4985\n"
    }
   ],
   "source": [
    "print(f'Number of unqiue turnstiles: {len(mta_sorted.turnstile.unique())}') \n",
    "print(f'Number of NaN rows: {len(mta_sorted[mta_sorted.entries_diff.isnull()])}') "
   ]
  },
  {
   "cell_type": "code",
   "execution_count": 9,
   "metadata": {},
   "outputs": [
    {
     "output_type": "stream",
     "name": "stdout",
     "text": "summary of entries_diff:\ncount    4.529627e+06\nmean     1.317849e+03\nstd      2.512299e+06\nmin     -1.562921e+09\n25%      0.000000e+00\n50%      1.000000e+01\n75%      7.800000e+01\nmax      2.038596e+09\nName: entries_diff, dtype: float64\n99th percentile of entries_diff:\n1356.0\n"
    }
   ],
   "source": [
    "print('summary of entries_diff:')\n",
    "print(mta_sorted.entries_diff.describe())\n",
    "print('99th percentile of entries_diff:')\n",
    "entries_99th = mta_sorted.entries_diff.quantile(.9975)\n",
    "print(entries_99th)"
   ]
  },
  {
   "cell_type": "code",
   "execution_count": 10,
   "metadata": {},
   "outputs": [
    {
     "output_type": "stream",
     "name": "stdout",
     "text": "summary of exits_diff:\ncount    4.529627e+06\nmean     1.288204e+03\nstd      2.575598e+06\nmin     -2.048960e+09\n25%      0.000000e+00\n50%      1.100000e+01\n75%      6.200000e+01\nmax      2.036331e+09\nName: exits_diff, dtype: float64\n99th percentile of exits_diff:\n1356.0\n"
    }
   ],
   "source": [
    "print('summary of exits_diff:')\n",
    "print(mta_sorted.exits_diff.describe())\n",
    "print('99th percentile of exits_diff:')\n",
    "exits_99th = mta_sorted.exits_diff.quantile(.9975)\n",
    "print(exits_99th)"
   ]
  },
  {
   "cell_type": "code",
   "execution_count": 11,
   "metadata": {},
   "outputs": [],
   "source": [
    "# we saw that there was 1 N/A for each turnstile (the first in the dataset) so we'll set those values to zero\n",
    "mta_sorted.exits_diff = mta_sorted.exits_diff.fillna(0)\n",
    "mta_sorted.entries_diff = mta_sorted.entries_diff.fillna(0)"
   ]
  },
  {
   "cell_type": "code",
   "execution_count": 12,
   "metadata": {},
   "outputs": [],
   "source": [
    "# these values should never be negative (since they are counting the increased counts each time), therefore we are cleaning out the negative values\n",
    "mta_sorted.entries_diff[mta_sorted.entries_diff < 0] = 0\n",
    "mta_sorted.exits_diff[mta_sorted.exits_diff < 0] = 0\n",
    "\n",
    "# note: this probably happens when the turnstile cumulative counter is reset"
   ]
  },
  {
   "cell_type": "code",
   "execution_count": 13,
   "metadata": {},
   "outputs": [],
   "source": [
    "# remove extreme values from dataset (anything aboove 99.75% of the sample)\n",
    "mta_sorted.entries_diff[mta_sorted.entries_diff> entries_99th] = 0\n",
    "mta_sorted.exits_diff[mta_sorted.exits_diff> exits_99th] = 0\n"
   ]
  },
  {
   "cell_type": "markdown",
   "metadata": {},
   "source": [
    "1. see num hours from previous reading\n",
    "2. divide entries/exits by number of hours\n",
    "3. upsample data to have at hourly level\n",
    "4. pad with normalized values (back-filling values)"
   ]
  },
  {
   "cell_type": "code",
   "execution_count": 14,
   "metadata": {},
   "outputs": [],
   "source": [
    "# get the time difference from previous timestamp\n",
    "mta_sorted['time_diff'] = turnstile_grouped['datetime'].transform(pd.Series.diff)\n",
    "# turn it into a float so we can use it to normalize our aggregated values \n",
    "mta_sorted.time_diff = np.floor(mta_sorted.time_diff/np.timedelta64(1, 'h'))"
   ]
  },
  {
   "cell_type": "code",
   "execution_count": 15,
   "metadata": {},
   "outputs": [],
   "source": [
    "# normalize our values to get the average hourly rate of entries and exits \n",
    "mta_sorted['entries_diff_hourly'] = mta_sorted.entries_diff / mta_sorted.time_diff\n",
    "mta_sorted['exits_diff_hourly'] = mta_sorted.exits_diff / mta_sorted.time_diff"
   ]
  },
  {
   "cell_type": "code",
   "execution_count": 16,
   "metadata": {},
   "outputs": [
    {
     "output_type": "execute_result",
     "data": {
      "text/plain": "    C/A  unit       SCP station line_name division        date      time  \\\n0  A002  R051  02-00-00   59 ST   NQR456W      BMT  12/28/2019  03:00:00   \n1  A002  R051  02-00-00   59 ST   NQR456W      BMT  12/28/2019  07:00:00   \n2  A002  R051  02-00-00   59 ST   NQR456W      BMT  12/28/2019  11:00:00   \n3  A002  R051  02-00-00   59 ST   NQR456W      BMT  12/28/2019  15:00:00   \n4  A002  R051  02-00-00   59 ST   NQR456W      BMT  12/28/2019  19:00:00   \n\n  description  entries    exits            datetime           turnstile  \\\n0     REGULAR  7324295  2482512 2019-12-28 03:00:00  A002-R051-02-00-00   \n1     REGULAR  7324305  2482523 2019-12-28 07:00:00  A002-R051-02-00-00   \n2     REGULAR  7324371  2482594 2019-12-28 11:00:00  A002-R051-02-00-00   \n3     REGULAR  7324587  2482647 2019-12-28 15:00:00  A002-R051-02-00-00   \n4     REGULAR  7324963  2482713 2019-12-28 19:00:00  A002-R051-02-00-00   \n\n  station_code  entries_diff  exits_diff  time_diff  entries_diff_hourly  \\\n0     A002R051           0.0         0.0        NaN                  NaN   \n1     A002R051          10.0        11.0        4.0                  2.5   \n2     A002R051          66.0        71.0        4.0                 16.5   \n3     A002R051         216.0        53.0        4.0                 54.0   \n4     A002R051         376.0        66.0        4.0                 94.0   \n\n   exits_diff_hourly  \n0                NaN  \n1               2.75  \n2              17.75  \n3              13.25  \n4              16.50  ",
      "text/html": "<div>\n<style scoped>\n    .dataframe tbody tr th:only-of-type {\n        vertical-align: middle;\n    }\n\n    .dataframe tbody tr th {\n        vertical-align: top;\n    }\n\n    .dataframe thead th {\n        text-align: right;\n    }\n</style>\n<table border=\"1\" class=\"dataframe\">\n  <thead>\n    <tr style=\"text-align: right;\">\n      <th></th>\n      <th>C/A</th>\n      <th>unit</th>\n      <th>SCP</th>\n      <th>station</th>\n      <th>line_name</th>\n      <th>division</th>\n      <th>date</th>\n      <th>time</th>\n      <th>description</th>\n      <th>entries</th>\n      <th>exits</th>\n      <th>datetime</th>\n      <th>turnstile</th>\n      <th>station_code</th>\n      <th>entries_diff</th>\n      <th>exits_diff</th>\n      <th>time_diff</th>\n      <th>entries_diff_hourly</th>\n      <th>exits_diff_hourly</th>\n    </tr>\n  </thead>\n  <tbody>\n    <tr>\n      <th>0</th>\n      <td>A002</td>\n      <td>R051</td>\n      <td>02-00-00</td>\n      <td>59 ST</td>\n      <td>NQR456W</td>\n      <td>BMT</td>\n      <td>12/28/2019</td>\n      <td>03:00:00</td>\n      <td>REGULAR</td>\n      <td>7324295</td>\n      <td>2482512</td>\n      <td>2019-12-28 03:00:00</td>\n      <td>A002-R051-02-00-00</td>\n      <td>A002R051</td>\n      <td>0.0</td>\n      <td>0.0</td>\n      <td>NaN</td>\n      <td>NaN</td>\n      <td>NaN</td>\n    </tr>\n    <tr>\n      <th>1</th>\n      <td>A002</td>\n      <td>R051</td>\n      <td>02-00-00</td>\n      <td>59 ST</td>\n      <td>NQR456W</td>\n      <td>BMT</td>\n      <td>12/28/2019</td>\n      <td>07:00:00</td>\n      <td>REGULAR</td>\n      <td>7324305</td>\n      <td>2482523</td>\n      <td>2019-12-28 07:00:00</td>\n      <td>A002-R051-02-00-00</td>\n      <td>A002R051</td>\n      <td>10.0</td>\n      <td>11.0</td>\n      <td>4.0</td>\n      <td>2.5</td>\n      <td>2.75</td>\n    </tr>\n    <tr>\n      <th>2</th>\n      <td>A002</td>\n      <td>R051</td>\n      <td>02-00-00</td>\n      <td>59 ST</td>\n      <td>NQR456W</td>\n      <td>BMT</td>\n      <td>12/28/2019</td>\n      <td>11:00:00</td>\n      <td>REGULAR</td>\n      <td>7324371</td>\n      <td>2482594</td>\n      <td>2019-12-28 11:00:00</td>\n      <td>A002-R051-02-00-00</td>\n      <td>A002R051</td>\n      <td>66.0</td>\n      <td>71.0</td>\n      <td>4.0</td>\n      <td>16.5</td>\n      <td>17.75</td>\n    </tr>\n    <tr>\n      <th>3</th>\n      <td>A002</td>\n      <td>R051</td>\n      <td>02-00-00</td>\n      <td>59 ST</td>\n      <td>NQR456W</td>\n      <td>BMT</td>\n      <td>12/28/2019</td>\n      <td>15:00:00</td>\n      <td>REGULAR</td>\n      <td>7324587</td>\n      <td>2482647</td>\n      <td>2019-12-28 15:00:00</td>\n      <td>A002-R051-02-00-00</td>\n      <td>A002R051</td>\n      <td>216.0</td>\n      <td>53.0</td>\n      <td>4.0</td>\n      <td>54.0</td>\n      <td>13.25</td>\n    </tr>\n    <tr>\n      <th>4</th>\n      <td>A002</td>\n      <td>R051</td>\n      <td>02-00-00</td>\n      <td>59 ST</td>\n      <td>NQR456W</td>\n      <td>BMT</td>\n      <td>12/28/2019</td>\n      <td>19:00:00</td>\n      <td>REGULAR</td>\n      <td>7324963</td>\n      <td>2482713</td>\n      <td>2019-12-28 19:00:00</td>\n      <td>A002-R051-02-00-00</td>\n      <td>A002R051</td>\n      <td>376.0</td>\n      <td>66.0</td>\n      <td>4.0</td>\n      <td>94.0</td>\n      <td>16.50</td>\n    </tr>\n  </tbody>\n</table>\n</div>"
     },
     "metadata": {},
     "execution_count": 16
    }
   ],
   "source": [
    "mta_sorted.head()"
   ]
  },
  {
   "cell_type": "code",
   "execution_count": 17,
   "metadata": {},
   "outputs": [],
   "source": [
    "# upsample data to have at hourly level\n",
    "# time_resampled = mta_sorted.set_index('datetime')\n",
    "time_grouped = mta_sorted.groupby([\"turnstile\"]).apply(lambda x : x.drop_duplicates('datetime')\n",
    ".set_index('datetime')\n",
    ".resample('1H')\n",
    ".bfill())\n",
    "# ref: https://stackoverflow.com/a/39793110\n",
    "# ref: https://towardsdatascience.com/how-to-interpolate-time-series-data-in-apache-spark-and-python-pandas-part-1-pandas-cff54d76a2ea"
   ]
  },
  {
   "cell_type": "code",
   "execution_count": 18,
   "metadata": {},
   "outputs": [],
   "source": [
    "time_resampled = time_grouped.drop(\"turnstile\", axis=1).reset_index()"
   ]
  },
  {
   "cell_type": "code",
   "execution_count": 19,
   "metadata": {},
   "outputs": [],
   "source": [
    "time_resampled.entries_diff_hourly = time_resampled.entries_diff_hourly.fillna(0).replace([np.inf, -np.inf], 0)\n",
    "time_resampled.exits_diff_hourly = time_resampled.exits_diff_hourly.fillna(0).replace([np.inf, -np.inf], 0)\n"
   ]
  },
  {
   "cell_type": "code",
   "execution_count": 20,
   "metadata": {},
   "outputs": [
    {
     "output_type": "execute_result",
     "data": {
      "text/plain": "count    1.487705e+07\nmean     2.438742e+01\nstd      4.384397e+01\nmin      0.000000e+00\n25%      5.000000e-01\n50%      5.500000e+00\n75%      2.725000e+01\nmax      1.060000e+03\nName: entries_diff_hourly, dtype: float64"
     },
     "metadata": {},
     "execution_count": 20
    }
   ],
   "source": [
    "time_resampled.entries_diff_hourly.describe()"
   ]
  },
  {
   "cell_type": "code",
   "execution_count": 24,
   "metadata": {},
   "outputs": [
    {
     "output_type": "execute_result",
     "data": {
      "text/plain": "Index(['turnstile', 'datetime', 'C/A', 'unit', 'SCP', 'station', 'line_name',\n       'division', 'date', 'time', 'description', 'entries', 'exits',\n       'station_code', 'entries_diff', 'exits_diff', 'time_diff',\n       'entries_diff_hourly', 'exits_diff_hourly'],\n      dtype='object')"
     },
     "metadata": {},
     "execution_count": 24
    }
   ],
   "source": [
    "time_resampled.columns"
   ]
  },
  {
   "cell_type": "code",
   "execution_count": 43,
   "metadata": {},
   "outputs": [],
   "source": [
    "stationRollupsHourly = time_resampled.groupby([\"station_code\", \"station\", \"line_name\", \"datetime\"], as_index=False)[\"entries_diff_hourly\", \"exits_diff_hourly\"].sum()"
   ]
  },
  {
   "cell_type": "code",
   "execution_count": 44,
   "metadata": {},
   "outputs": [],
   "source": [
    "stationRollupsHourly=stationRollupsHourly.rename({'entries_diff_hourly': 'entries', 'exits_diff_hourly': 'exits'}, axis=1) "
   ]
  },
  {
   "cell_type": "code",
   "execution_count": 48,
   "metadata": {},
   "outputs": [],
   "source": [
    "stationRollupsDaily = stationRollupsHourly.groupby([\"station_code\",\"station\", \"line_name\"]).apply(lambda x : x.drop_duplicates('datetime')\n",
    ".set_index('datetime')\n",
    ".resample('1D')\n",
    ".sum())"
   ]
  },
  {
   "cell_type": "code",
   "execution_count": 49,
   "metadata": {},
   "outputs": [
    {
     "output_type": "execute_result",
     "data": {
      "text/plain": "                                           entries   exits\nstation_code station line_name datetime                   \nA002R051     59 ST   NQR456W   2019-12-28   7677.0  5868.0\n                               2019-12-29   6904.0  5111.0\n                               2019-12-30  10907.0  7080.0\n                               2019-12-31   9494.0  6055.0\n                               2020-01-01   5267.0  3225.0",
      "text/html": "<div>\n<style scoped>\n    .dataframe tbody tr th:only-of-type {\n        vertical-align: middle;\n    }\n\n    .dataframe tbody tr th {\n        vertical-align: top;\n    }\n\n    .dataframe thead th {\n        text-align: right;\n    }\n</style>\n<table border=\"1\" class=\"dataframe\">\n  <thead>\n    <tr style=\"text-align: right;\">\n      <th></th>\n      <th></th>\n      <th></th>\n      <th></th>\n      <th>entries</th>\n      <th>exits</th>\n    </tr>\n    <tr>\n      <th>station_code</th>\n      <th>station</th>\n      <th>line_name</th>\n      <th>datetime</th>\n      <th></th>\n      <th></th>\n    </tr>\n  </thead>\n  <tbody>\n    <tr>\n      <th rowspan=\"5\" valign=\"top\">A002R051</th>\n      <th rowspan=\"5\" valign=\"top\">59 ST</th>\n      <th rowspan=\"5\" valign=\"top\">NQR456W</th>\n      <th>2019-12-28</th>\n      <td>7677.0</td>\n      <td>5868.0</td>\n    </tr>\n    <tr>\n      <th>2019-12-29</th>\n      <td>6904.0</td>\n      <td>5111.0</td>\n    </tr>\n    <tr>\n      <th>2019-12-30</th>\n      <td>10907.0</td>\n      <td>7080.0</td>\n    </tr>\n    <tr>\n      <th>2019-12-31</th>\n      <td>9494.0</td>\n      <td>6055.0</td>\n    </tr>\n    <tr>\n      <th>2020-01-01</th>\n      <td>5267.0</td>\n      <td>3225.0</td>\n    </tr>\n  </tbody>\n</table>\n</div>"
     },
     "metadata": {},
     "execution_count": 49
    }
   ],
   "source": [
    "stationRollupsDaily.head()"
   ]
  },
  {
   "cell_type": "code",
   "execution_count": 45,
   "metadata": {},
   "outputs": [],
   "source": [
    "stationRollupsHourly.to_csv(\"../data/output/mta_timeseries_hourly.csv\", index=False)"
   ]
  },
  {
   "cell_type": "code",
   "execution_count": 50,
   "metadata": {},
   "outputs": [],
   "source": [
    "stationRollupsDaily.to_csv(\"../data/output/mta_timeseries_daily.csv\", index=False)"
   ]
  },
  {
   "cell_type": "code",
   "execution_count": null,
   "metadata": {},
   "outputs": [],
   "source": []
  }
 ],
 "metadata": {
  "language_info": {
   "codemirror_mode": {
    "name": "ipython",
    "version": 3
   },
   "file_extension": ".py",
   "mimetype": "text/x-python",
   "name": "python",
   "nbconvert_exporter": "python",
   "pygments_lexer": "ipython3",
   "version": "3.7.3-final"
  },
  "orig_nbformat": 2,
  "kernelspec": {
   "name": "python3",
   "display_name": "Python 3"
  }
 },
 "nbformat": 4,
 "nbformat_minor": 2
}