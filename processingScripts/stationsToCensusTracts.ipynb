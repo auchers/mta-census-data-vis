{
 "cells": [
  {
   "cell_type": "code",
   "execution_count": 1,
   "metadata": {},
   "outputs": [],
   "source": [
    "import pandas as pd\n",
    "import numpy as np\n",
    "import geopandas"
   ]
  },
  {
   "cell_type": "code",
   "execution_count": 2,
   "metadata": {},
   "outputs": [],
   "source": [
    "stations_df = pd.read_csv(\"../data/Stations/MTA_Station_Mapping_from_turnstile_data.csv\")"
   ]
  },
  {
   "cell_type": "code",
   "execution_count": 3,
   "metadata": {},
   "outputs": [
    {
     "output_type": "execute_result",
     "data": {
      "text/plain": "Index(['station_code', 'station', 'line_name', 'C/A', 'unit', 'GTFS_stop_id',\n       'station_name', 'station_id', 'lat', 'long'],\n      dtype='object')"
     },
     "metadata": {},
     "execution_count": 3
    }
   ],
   "source": [
    "stations_df.columns"
   ]
  },
  {
   "cell_type": "code",
   "execution_count": 6,
   "metadata": {},
   "outputs": [],
   "source": [
    "# make stations a geopanda so we can use a spatial join on it\n",
    "stations = stations_df[~(stations_df.lat.isnull() | stations_df.lat.isna())] # remove empty geometries\n",
    "stations = geopandas.GeoDataFrame(\n",
    "    stations, geometry=geopandas.points_from_xy(stations[\"long\"], stations[\"lat\"]))"
   ]
  },
  {
   "cell_type": "code",
   "execution_count": 7,
   "metadata": {},
   "outputs": [
    {
     "output_type": "execute_result",
     "data": {
      "text/plain": "Empty GeoDataFrame\nColumns: [station_code, station, line_name, C/A, unit, GTFS_stop_id, station_name, station_id, lat, long, geometry]\nIndex: []",
      "text/html": "<div>\n<style scoped>\n    .dataframe tbody tr th:only-of-type {\n        vertical-align: middle;\n    }\n\n    .dataframe tbody tr th {\n        vertical-align: top;\n    }\n\n    .dataframe thead th {\n        text-align: right;\n    }\n</style>\n<table border=\"1\" class=\"dataframe\">\n  <thead>\n    <tr style=\"text-align: right;\">\n      <th></th>\n      <th>station_code</th>\n      <th>station</th>\n      <th>line_name</th>\n      <th>C/A</th>\n      <th>unit</th>\n      <th>GTFS_stop_id</th>\n      <th>station_name</th>\n      <th>station_id</th>\n      <th>lat</th>\n      <th>long</th>\n      <th>geometry</th>\n    </tr>\n  </thead>\n  <tbody>\n  </tbody>\n</table>\n</div>"
     },
     "metadata": {},
     "execution_count": 7
    }
   ],
   "source": [
    "# sanity check for null geometries\n",
    "stations[(stations.lat.isnull() | stations.lat.isna())]"
   ]
  },
  {
   "cell_type": "code",
   "execution_count": 8,
   "metadata": {},
   "outputs": [],
   "source": [
    "# shapefile of census tracts\n",
    "tracts = geopandas.read_file(\"../data/CensusTracts/geo_export_a7ef6b7d-a2a7-4254-9883-c91526ccfbe0.shp\")"
   ]
  },
  {
   "cell_type": "code",
   "execution_count": 9,
   "metadata": {},
   "outputs": [],
   "source": [
    "stationsWithTracts = geopandas.sjoin(stations, tracts, how=\"left\", op=\"intersects\")"
   ]
  },
  {
   "cell_type": "code",
   "execution_count": 10,
   "metadata": {},
   "outputs": [
    {
     "output_type": "execute_result",
     "data": {
      "text/plain": "Index(['station_code', 'station', 'line_name', 'C/A', 'unit', 'GTFS_stop_id',\n       'station_name', 'station_id', 'lat', 'long', 'geometry', 'index_right',\n       'boro_code', 'boro_ct201', 'boro_name', 'cdeligibil', 'ct2010',\n       'ctlabel', 'ntacode', 'ntaname', 'puma', 'shape_area', 'shape_leng'],\n      dtype='object')"
     },
     "metadata": {},
     "execution_count": 10
    }
   ],
   "source": [
    "stationsWithTracts.columns"
   ]
  },
  {
   "cell_type": "code",
   "execution_count": 11,
   "metadata": {},
   "outputs": [],
   "source": [
    "columnsToKeep = ['station_code', 'station',\"GTFS_stop_id\", \"C/A\",\"line_name\",'ct2010', \"ntaname\", \"ctlabel\", \"geometry\", \"lat\", \"long\"]"
   ]
  },
  {
   "cell_type": "code",
   "execution_count": 12,
   "metadata": {},
   "outputs": [
    {
     "output_type": "execute_result",
     "data": {
      "text/plain": "Empty GeoDataFrame\nColumns: [station_code, station, line_name, C/A, unit, GTFS_stop_id, station_name, station_id, lat, long, geometry, index_right, boro_code, boro_ct201, boro_name, cdeligibil, ct2010, ctlabel, ntacode, ntaname, puma, shape_area, shape_leng]\nIndex: []\n\n[0 rows x 23 columns]",
      "text/html": "<div>\n<style scoped>\n    .dataframe tbody tr th:only-of-type {\n        vertical-align: middle;\n    }\n\n    .dataframe tbody tr th {\n        vertical-align: top;\n    }\n\n    .dataframe thead th {\n        text-align: right;\n    }\n</style>\n<table border=\"1\" class=\"dataframe\">\n  <thead>\n    <tr style=\"text-align: right;\">\n      <th></th>\n      <th>station_code</th>\n      <th>station</th>\n      <th>line_name</th>\n      <th>C/A</th>\n      <th>unit</th>\n      <th>GTFS_stop_id</th>\n      <th>station_name</th>\n      <th>station_id</th>\n      <th>lat</th>\n      <th>long</th>\n      <th>...</th>\n      <th>boro_ct201</th>\n      <th>boro_name</th>\n      <th>cdeligibil</th>\n      <th>ct2010</th>\n      <th>ctlabel</th>\n      <th>ntacode</th>\n      <th>ntaname</th>\n      <th>puma</th>\n      <th>shape_area</th>\n      <th>shape_leng</th>\n    </tr>\n  </thead>\n  <tbody>\n  </tbody>\n</table>\n<p>0 rows × 23 columns</p>\n</div>"
     },
     "metadata": {},
     "execution_count": 12
    }
   ],
   "source": [
    "stationsWithTracts[stationsWithTracts.is_empty]"
   ]
  },
  {
   "cell_type": "code",
   "execution_count": 13,
   "metadata": {},
   "outputs": [],
   "source": [
    "stationsWithTracts = stationsWithTracts[columnsToKeep]"
   ]
  },
  {
   "cell_type": "code",
   "execution_count": 14,
   "metadata": {},
   "outputs": [
    {
     "output_type": "execute_result",
     "data": {
      "text/plain": "  station_code station GTFS_stop_id    C/A line_name  ct2010  \\\n0    H007AR248    1 AV          L06  H007A         L  003400   \n1     H007R248    1 AV          L06   H007         L  003400   \n2     H008R248    1 AV          L06   H008         L  003400   \n3     N037R314  103 ST          A18   N037        BC  014300   \n4     R170R191  103 ST          119   R170         1  019100   \n\n                       ntaname ctlabel                      geometry  \\\n0                 East Village      34  POINT (-73.981628 40.730953)   \n1                 East Village      34  POINT (-73.981628 40.730953)   \n2                 East Village      34  POINT (-73.981628 40.730953)   \n3  park-cemetery-etc-Manhattan     143  POINT (-73.961454 40.796092)   \n4              Upper West Side     191  POINT (-73.968379 40.799446)   \n\n         lat       long  \n0  40.730953 -73.981628  \n1  40.730953 -73.981628  \n2  40.730953 -73.981628  \n3  40.796092 -73.961454  \n4  40.799446 -73.968379  ",
      "text/html": "<div>\n<style scoped>\n    .dataframe tbody tr th:only-of-type {\n        vertical-align: middle;\n    }\n\n    .dataframe tbody tr th {\n        vertical-align: top;\n    }\n\n    .dataframe thead th {\n        text-align: right;\n    }\n</style>\n<table border=\"1\" class=\"dataframe\">\n  <thead>\n    <tr style=\"text-align: right;\">\n      <th></th>\n      <th>station_code</th>\n      <th>station</th>\n      <th>GTFS_stop_id</th>\n      <th>C/A</th>\n      <th>line_name</th>\n      <th>ct2010</th>\n      <th>ntaname</th>\n      <th>ctlabel</th>\n      <th>geometry</th>\n      <th>lat</th>\n      <th>long</th>\n    </tr>\n  </thead>\n  <tbody>\n    <tr>\n      <th>0</th>\n      <td>H007AR248</td>\n      <td>1 AV</td>\n      <td>L06</td>\n      <td>H007A</td>\n      <td>L</td>\n      <td>003400</td>\n      <td>East Village</td>\n      <td>34</td>\n      <td>POINT (-73.981628 40.730953)</td>\n      <td>40.730953</td>\n      <td>-73.981628</td>\n    </tr>\n    <tr>\n      <th>1</th>\n      <td>H007R248</td>\n      <td>1 AV</td>\n      <td>L06</td>\n      <td>H007</td>\n      <td>L</td>\n      <td>003400</td>\n      <td>East Village</td>\n      <td>34</td>\n      <td>POINT (-73.981628 40.730953)</td>\n      <td>40.730953</td>\n      <td>-73.981628</td>\n    </tr>\n    <tr>\n      <th>2</th>\n      <td>H008R248</td>\n      <td>1 AV</td>\n      <td>L06</td>\n      <td>H008</td>\n      <td>L</td>\n      <td>003400</td>\n      <td>East Village</td>\n      <td>34</td>\n      <td>POINT (-73.981628 40.730953)</td>\n      <td>40.730953</td>\n      <td>-73.981628</td>\n    </tr>\n    <tr>\n      <th>3</th>\n      <td>N037R314</td>\n      <td>103 ST</td>\n      <td>A18</td>\n      <td>N037</td>\n      <td>BC</td>\n      <td>014300</td>\n      <td>park-cemetery-etc-Manhattan</td>\n      <td>143</td>\n      <td>POINT (-73.961454 40.796092)</td>\n      <td>40.796092</td>\n      <td>-73.961454</td>\n    </tr>\n    <tr>\n      <th>4</th>\n      <td>R170R191</td>\n      <td>103 ST</td>\n      <td>119</td>\n      <td>R170</td>\n      <td>1</td>\n      <td>019100</td>\n      <td>Upper West Side</td>\n      <td>191</td>\n      <td>POINT (-73.968379 40.799446)</td>\n      <td>40.799446</td>\n      <td>-73.968379</td>\n    </tr>\n  </tbody>\n</table>\n</div>"
     },
     "metadata": {},
     "execution_count": 14
    }
   ],
   "source": [
    "stationsWithTracts.head()"
   ]
  },
  {
   "cell_type": "code",
   "execution_count": 15,
   "metadata": {},
   "outputs": [],
   "source": [
    "stationsWithTracts.to_csv(\"../data/output/stationsWithTracts.csv\", index=False)"
   ]
  },
  {
   "cell_type": "code",
   "execution_count": null,
   "metadata": {},
   "outputs": [],
   "source": []
  }
 ],
 "metadata": {
  "language_info": {
   "codemirror_mode": {
    "name": "ipython",
    "version": 3
   },
   "file_extension": ".py",
   "mimetype": "text/x-python",
   "name": "python",
   "nbconvert_exporter": "python",
   "pygments_lexer": "ipython3",
   "version": "3.7.1-final"
  },
  "orig_nbformat": 2,
  "kernelspec": {
   "name": "python37164bitbaseconda04659184937c46f9a0b6ad1d38ad8503",
   "display_name": "Python 3.7.1 64-bit ('base': conda)"
  }
 },
 "nbformat": 4,
 "nbformat_minor": 2
}