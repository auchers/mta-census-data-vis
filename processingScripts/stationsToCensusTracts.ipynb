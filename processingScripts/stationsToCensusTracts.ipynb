{
 "cells": [
  {
   "cell_type": "code",
   "execution_count": 1,
   "metadata": {},
   "outputs": [],
   "source": [
    "import pandas as pd\n",
    "import numpy as np\n",
    "import geopandas"
   ]
  },
  {
   "cell_type": "code",
   "execution_count": 6,
   "metadata": {},
   "outputs": [],
   "source": [
    "stations_df = pd.read_csv(\"../data/Stations/MTA_Station_Mapping_from_turnstile_data.csv\")"
   ]
  },
  {
   "cell_type": "code",
   "execution_count": 7,
   "metadata": {},
   "outputs": [
    {
     "output_type": "execute_result",
     "data": {
      "text/plain": "Index(['station_code', 'station', 'line_name', 'C/A', 'unit', 'GTFS_stop_id',\n       'station_name', 'station_id', 'lat', 'long'],\n      dtype='object')"
     },
     "metadata": {},
     "execution_count": 7
    }
   ],
   "source": [
    "stations_df.columns"
   ]
  },
  {
   "cell_type": "code",
   "execution_count": 40,
   "metadata": {},
   "outputs": [],
   "source": [
    "# make stations a geopanda so we can use a spatial join on it\n",
    "stations = stations_df[~(stations.lat.isnull() | stations.lat.isna())] # remove empty geometries\n",
    "stations = geopandas.GeoDataFrame(\n",
    "    stations, geometry=geopandas.points_from_xy(stations[\"long\"], stations[\"lat\"]))"
   ]
  },
  {
   "cell_type": "code",
   "execution_count": 43,
   "metadata": {},
   "outputs": [
    {
     "output_type": "execute_result",
     "data": {
      "text/plain": "Empty GeoDataFrame\nColumns: [station_code, station, line_name, C/A, unit, GTFS_stop_id, station_name, station_id, lat, long, geometry]\nIndex: []",
      "text/html": "<div>\n<style scoped>\n    .dataframe tbody tr th:only-of-type {\n        vertical-align: middle;\n    }\n\n    .dataframe tbody tr th {\n        vertical-align: top;\n    }\n\n    .dataframe thead th {\n        text-align: right;\n    }\n</style>\n<table border=\"1\" class=\"dataframe\">\n  <thead>\n    <tr style=\"text-align: right;\">\n      <th></th>\n      <th>station_code</th>\n      <th>station</th>\n      <th>line_name</th>\n      <th>C/A</th>\n      <th>unit</th>\n      <th>GTFS_stop_id</th>\n      <th>station_name</th>\n      <th>station_id</th>\n      <th>lat</th>\n      <th>long</th>\n      <th>geometry</th>\n    </tr>\n  </thead>\n  <tbody>\n  </tbody>\n</table>\n</div>"
     },
     "metadata": {},
     "execution_count": 43
    }
   ],
   "source": [
    "# sanity check for null geometries\n",
    "stations[(stations.lat.isnull() | stations.lat.isna())]"
   ]
  },
  {
   "cell_type": "code",
   "execution_count": 44,
   "metadata": {},
   "outputs": [],
   "source": [
    "# shapefile of census tracts\n",
    "tracts = geopandas.read_file(\"../data/CensusTracts/geo_export_a7ef6b7d-a2a7-4254-9883-c91526ccfbe0.shp\")"
   ]
  },
  {
   "cell_type": "code",
   "execution_count": 45,
   "metadata": {},
   "outputs": [],
   "source": [
    "stationsWithTracts = geopandas.sjoin(stations, tracts, how=\"left\", op=\"intersects\")"
   ]
  },
  {
   "cell_type": "code",
   "execution_count": 47,
   "metadata": {},
   "outputs": [
    {
     "output_type": "execute_result",
     "data": {
      "text/plain": "Index(['station_code', 'station', 'line_name', 'C/A', 'unit', 'GTFS_stop_id',\n       'station_name', 'station_id', 'lat', 'long', 'geometry', 'index_right',\n       'boro_code', 'boro_ct201', 'boro_name', 'cdeligibil', 'ct2010',\n       'ctlabel', 'ntacode', 'ntaname', 'puma', 'shape_area', 'shape_leng'],\n      dtype='object')"
     },
     "metadata": {},
     "execution_count": 47
    }
   ],
   "source": [
    "stationsWithTracts.columns"
   ]
  },
  {
   "cell_type": "code",
   "execution_count": 51,
   "metadata": {},
   "outputs": [],
   "source": [
    "columnsToKeep = ['station_code', 'station',\"GTFS_stop_id\", \"C/A\",\"line_name\",'ct2010', \"ntaname\", \"ctlabel\", \"geometry\", \"lat\", \"long\"]"
   ]
  },
  {
   "cell_type": "code",
   "execution_count": 52,
   "metadata": {},
   "outputs": [
    {
     "output_type": "execute_result",
     "data": {
      "text/plain": "Empty GeoDataFrame\nColumns: [station_code, station, line_name, C/A, unit, GTFS_stop_id, station_name, station_id, lat, long, geometry, index_right, boro_code, boro_ct201, boro_name, cdeligibil, ct2010, ctlabel, ntacode, ntaname, puma, shape_area, shape_leng]\nIndex: []\n\n[0 rows x 23 columns]",
      "text/html": "<div>\n<style scoped>\n    .dataframe tbody tr th:only-of-type {\n        vertical-align: middle;\n    }\n\n    .dataframe tbody tr th {\n        vertical-align: top;\n    }\n\n    .dataframe thead th {\n        text-align: right;\n    }\n</style>\n<table border=\"1\" class=\"dataframe\">\n  <thead>\n    <tr style=\"text-align: right;\">\n      <th></th>\n      <th>station_code</th>\n      <th>station</th>\n      <th>line_name</th>\n      <th>C/A</th>\n      <th>unit</th>\n      <th>GTFS_stop_id</th>\n      <th>station_name</th>\n      <th>station_id</th>\n      <th>lat</th>\n      <th>long</th>\n      <th>...</th>\n      <th>boro_ct201</th>\n      <th>boro_name</th>\n      <th>cdeligibil</th>\n      <th>ct2010</th>\n      <th>ctlabel</th>\n      <th>ntacode</th>\n      <th>ntaname</th>\n      <th>puma</th>\n      <th>shape_area</th>\n      <th>shape_leng</th>\n    </tr>\n  </thead>\n  <tbody>\n  </tbody>\n</table>\n<p>0 rows × 23 columns</p>\n</div>"
     },
     "metadata": {},
     "execution_count": 52
    }
   ],
   "source": [
    "stationsWithTracts[stationsWithTracts.is_empty]"
   ]
  },
  {
   "cell_type": "code",
   "execution_count": 53,
   "metadata": {},
   "outputs": [],
   "source": [
    "stationsWithTracts = stationsWithTracts[columnsToKeep]"
   ]
  },
  {
   "cell_type": "code",
   "execution_count": 54,
   "metadata": {},
   "outputs": [
    {
     "output_type": "execute_result",
     "data": {
      "text/plain": "  station_code     station GTFS_stop_id   C/A line_name  ct2010  \\\n0     A002R051       59 ST          R11  A002   NQR456W  011402   \n1     A006R079  5 AV/59 ST          R13  A006      NQRW  014300   \n2     A007R079  5 AV/59 ST          R13  A007      NQRW  014300   \n3     A010R080  57 ST-7 AV          R14  A010      NQRW  013700   \n4     A011R080  57 ST-7 AV          R14  A011      NQRW  013700   \n\n                         ntaname ctlabel  \\\n0  Upper East Side-Carnegie Hill  114.02   \n1    park-cemetery-etc-Manhattan     143   \n2    park-cemetery-etc-Manhattan     143   \n3          Midtown-Midtown South     137   \n4          Midtown-Midtown South     137   \n\n                               geometry        lat       long  \n0           POINT (-73.967258 40.76266)  40.762660 -73.967258  \n1          POINT (-73.973347 40.764811)  40.764811 -73.973347  \n2          POINT (-73.973347 40.764811)  40.764811 -73.973347  \n3  POINT (-73.98065799999999 40.764664)  40.764664 -73.980658  \n4  POINT (-73.98065799999999 40.764664)  40.764664 -73.980658  ",
      "text/html": "<div>\n<style scoped>\n    .dataframe tbody tr th:only-of-type {\n        vertical-align: middle;\n    }\n\n    .dataframe tbody tr th {\n        vertical-align: top;\n    }\n\n    .dataframe thead th {\n        text-align: right;\n    }\n</style>\n<table border=\"1\" class=\"dataframe\">\n  <thead>\n    <tr style=\"text-align: right;\">\n      <th></th>\n      <th>station_code</th>\n      <th>station</th>\n      <th>GTFS_stop_id</th>\n      <th>C/A</th>\n      <th>line_name</th>\n      <th>ct2010</th>\n      <th>ntaname</th>\n      <th>ctlabel</th>\n      <th>geometry</th>\n      <th>lat</th>\n      <th>long</th>\n    </tr>\n  </thead>\n  <tbody>\n    <tr>\n      <th>0</th>\n      <td>A002R051</td>\n      <td>59 ST</td>\n      <td>R11</td>\n      <td>A002</td>\n      <td>NQR456W</td>\n      <td>011402</td>\n      <td>Upper East Side-Carnegie Hill</td>\n      <td>114.02</td>\n      <td>POINT (-73.967258 40.76266)</td>\n      <td>40.762660</td>\n      <td>-73.967258</td>\n    </tr>\n    <tr>\n      <th>1</th>\n      <td>A006R079</td>\n      <td>5 AV/59 ST</td>\n      <td>R13</td>\n      <td>A006</td>\n      <td>NQRW</td>\n      <td>014300</td>\n      <td>park-cemetery-etc-Manhattan</td>\n      <td>143</td>\n      <td>POINT (-73.973347 40.764811)</td>\n      <td>40.764811</td>\n      <td>-73.973347</td>\n    </tr>\n    <tr>\n      <th>2</th>\n      <td>A007R079</td>\n      <td>5 AV/59 ST</td>\n      <td>R13</td>\n      <td>A007</td>\n      <td>NQRW</td>\n      <td>014300</td>\n      <td>park-cemetery-etc-Manhattan</td>\n      <td>143</td>\n      <td>POINT (-73.973347 40.764811)</td>\n      <td>40.764811</td>\n      <td>-73.973347</td>\n    </tr>\n    <tr>\n      <th>3</th>\n      <td>A010R080</td>\n      <td>57 ST-7 AV</td>\n      <td>R14</td>\n      <td>A010</td>\n      <td>NQRW</td>\n      <td>013700</td>\n      <td>Midtown-Midtown South</td>\n      <td>137</td>\n      <td>POINT (-73.98065799999999 40.764664)</td>\n      <td>40.764664</td>\n      <td>-73.980658</td>\n    </tr>\n    <tr>\n      <th>4</th>\n      <td>A011R080</td>\n      <td>57 ST-7 AV</td>\n      <td>R14</td>\n      <td>A011</td>\n      <td>NQRW</td>\n      <td>013700</td>\n      <td>Midtown-Midtown South</td>\n      <td>137</td>\n      <td>POINT (-73.98065799999999 40.764664)</td>\n      <td>40.764664</td>\n      <td>-73.980658</td>\n    </tr>\n  </tbody>\n</table>\n</div>"
     },
     "metadata": {},
     "execution_count": 54
    }
   ],
   "source": [
    "stationsWithTracts.head()"
   ]
  },
  {
   "cell_type": "code",
   "execution_count": 55,
   "metadata": {},
   "outputs": [],
   "source": [
    "stationsWithTracts.to_csv(\"../data/output/stationsWithTracts.csv\", index=False)"
   ]
  },
  {
   "cell_type": "code",
   "execution_count": null,
   "metadata": {},
   "outputs": [],
   "source": []
  }
 ],
 "metadata": {
  "language_info": {
   "codemirror_mode": {
    "name": "ipython",
    "version": 3
   },
   "file_extension": ".py",
   "mimetype": "text/x-python",
   "name": "python",
   "nbconvert_exporter": "python",
   "pygments_lexer": "ipython3",
   "version": "3.7.1-final"
  },
  "orig_nbformat": 2,
  "kernelspec": {
   "name": "python37164bitbaseconda04659184937c46f9a0b6ad1d38ad8503",
   "display_name": "Python 3.7.1 64-bit ('base': conda)"
  }
 },
 "nbformat": 4,
 "nbformat_minor": 2
}