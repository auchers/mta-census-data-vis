{
 "cells": [
  {
   "cell_type": "code",
   "execution_count": 33,
   "metadata": {},
   "outputs": [],
   "source": [
    "import pandas as pd\n",
    "import numpy as np\n",
    "import geopandas"
   ]
  },
  {
   "cell_type": "code",
   "execution_count": 34,
   "metadata": {},
   "outputs": [],
   "source": [
    "stations_df = pd.read_csv(\"./data/Stations/Stations.csv\")\n",
    "station_lookups = pd.read_csv(\"./data/Stations/turnstile_ca_gtfs_stop_id.csv\")"
   ]
  },
  {
   "cell_type": "code",
   "execution_count": 35,
   "metadata": {},
   "outputs": [
    {
     "output_type": "execute_result",
     "data": {
      "text/plain": "Index(['Station ID', 'Complex ID', 'GTFS Stop ID', 'Division', 'Line',\n       'Stop Name', 'Borough', 'Daytime Routes', 'Structure', 'GTFS Latitude',\n       'GTFS Longitude', 'North Direction Label', 'South Direction Label'],\n      dtype='object')"
     },
     "metadata": {},
     "execution_count": 35
    }
   ],
   "source": [
    "stations_df.columns"
   ]
  },
  {
   "cell_type": "code",
   "execution_count": 36,
   "metadata": {},
   "outputs": [],
   "source": [
    "stationsWithLookups = pd.merge(stations_df, station_lookups, how=\"left\", left_on=\"GTFS Stop ID\", right_on=\"stop_id\")"
   ]
  },
  {
   "cell_type": "code",
   "execution_count": 37,
   "metadata": {},
   "outputs": [],
   "source": [
    "stations = geopandas.GeoDataFrame(\n",
    "    stationsWithLookups, geometry=geopandas.points_from_xy(stationsWithLookups[\"GTFS Longitude\"], stationsWithLookups[\"GTFS Latitude\"]))"
   ]
  },
  {
   "cell_type": "code",
   "execution_count": 38,
   "metadata": {},
   "outputs": [
    {
     "output_type": "execute_result",
     "data": {
      "text/plain": "   Station ID  Complex ID GTFS Stop ID Division     Line  \\\n0           1           1          R01      BMT  Astoria   \n1           2           2          R03      BMT  Astoria   \n2           3           3          R04      BMT  Astoria   \n3           4           4          R05      BMT  Astoria   \n4           5           5          R06      BMT  Astoria   \n\n                Stop Name Borough Daytime Routes Structure  GTFS Latitude  \\\n0  Astoria - Ditmars Blvd       Q            N W  Elevated      40.775036   \n1            Astoria Blvd       Q            N W  Elevated      40.770258   \n2                   30 Av       Q            N W  Elevated      40.766779   \n3                Broadway       Q            N W  Elevated      40.761820   \n4                   36 Av       Q            N W  Elevated      40.756804   \n\n   GTFS Longitude   North Direction Label South Direction Label    ca stop_id  \\\n0      -73.912034                     NaN             Manhattan  R515     R01   \n1      -73.917843            Ditmars Blvd             Manhattan  R514     R03   \n2      -73.921479  Astoria - Ditmars Blvd             Manhattan  R513     R04   \n3      -73.925508  Astoria - Ditmars Blvd             Manhattan  R512     R05   \n4      -73.929575  Astoria - Ditmars Blvd             Manhattan  R511     R06   \n\n                               geometry  \n0  POINT (-73.91203399999999 40.775036)  \n1          POINT (-73.917843 40.770258)  \n2  POINT (-73.92147900000001 40.766779)  \n3   POINT (-73.92550799999999 40.76182)  \n4          POINT (-73.929575 40.756804)  ",
      "text/html": "<div>\n<style scoped>\n    .dataframe tbody tr th:only-of-type {\n        vertical-align: middle;\n    }\n\n    .dataframe tbody tr th {\n        vertical-align: top;\n    }\n\n    .dataframe thead th {\n        text-align: right;\n    }\n</style>\n<table border=\"1\" class=\"dataframe\">\n  <thead>\n    <tr style=\"text-align: right;\">\n      <th></th>\n      <th>Station ID</th>\n      <th>Complex ID</th>\n      <th>GTFS Stop ID</th>\n      <th>Division</th>\n      <th>Line</th>\n      <th>Stop Name</th>\n      <th>Borough</th>\n      <th>Daytime Routes</th>\n      <th>Structure</th>\n      <th>GTFS Latitude</th>\n      <th>GTFS Longitude</th>\n      <th>North Direction Label</th>\n      <th>South Direction Label</th>\n      <th>ca</th>\n      <th>stop_id</th>\n      <th>geometry</th>\n    </tr>\n  </thead>\n  <tbody>\n    <tr>\n      <th>0</th>\n      <td>1</td>\n      <td>1</td>\n      <td>R01</td>\n      <td>BMT</td>\n      <td>Astoria</td>\n      <td>Astoria - Ditmars Blvd</td>\n      <td>Q</td>\n      <td>N W</td>\n      <td>Elevated</td>\n      <td>40.775036</td>\n      <td>-73.912034</td>\n      <td>NaN</td>\n      <td>Manhattan</td>\n      <td>R515</td>\n      <td>R01</td>\n      <td>POINT (-73.91203399999999 40.775036)</td>\n    </tr>\n    <tr>\n      <th>1</th>\n      <td>2</td>\n      <td>2</td>\n      <td>R03</td>\n      <td>BMT</td>\n      <td>Astoria</td>\n      <td>Astoria Blvd</td>\n      <td>Q</td>\n      <td>N W</td>\n      <td>Elevated</td>\n      <td>40.770258</td>\n      <td>-73.917843</td>\n      <td>Ditmars Blvd</td>\n      <td>Manhattan</td>\n      <td>R514</td>\n      <td>R03</td>\n      <td>POINT (-73.917843 40.770258)</td>\n    </tr>\n    <tr>\n      <th>2</th>\n      <td>3</td>\n      <td>3</td>\n      <td>R04</td>\n      <td>BMT</td>\n      <td>Astoria</td>\n      <td>30 Av</td>\n      <td>Q</td>\n      <td>N W</td>\n      <td>Elevated</td>\n      <td>40.766779</td>\n      <td>-73.921479</td>\n      <td>Astoria - Ditmars Blvd</td>\n      <td>Manhattan</td>\n      <td>R513</td>\n      <td>R04</td>\n      <td>POINT (-73.92147900000001 40.766779)</td>\n    </tr>\n    <tr>\n      <th>3</th>\n      <td>4</td>\n      <td>4</td>\n      <td>R05</td>\n      <td>BMT</td>\n      <td>Astoria</td>\n      <td>Broadway</td>\n      <td>Q</td>\n      <td>N W</td>\n      <td>Elevated</td>\n      <td>40.761820</td>\n      <td>-73.925508</td>\n      <td>Astoria - Ditmars Blvd</td>\n      <td>Manhattan</td>\n      <td>R512</td>\n      <td>R05</td>\n      <td>POINT (-73.92550799999999 40.76182)</td>\n    </tr>\n    <tr>\n      <th>4</th>\n      <td>5</td>\n      <td>5</td>\n      <td>R06</td>\n      <td>BMT</td>\n      <td>Astoria</td>\n      <td>36 Av</td>\n      <td>Q</td>\n      <td>N W</td>\n      <td>Elevated</td>\n      <td>40.756804</td>\n      <td>-73.929575</td>\n      <td>Astoria - Ditmars Blvd</td>\n      <td>Manhattan</td>\n      <td>R511</td>\n      <td>R06</td>\n      <td>POINT (-73.929575 40.756804)</td>\n    </tr>\n  </tbody>\n</table>\n</div>"
     },
     "metadata": {},
     "execution_count": 38
    }
   ],
   "source": [
    "stations.head()"
   ]
  },
  {
   "cell_type": "code",
   "execution_count": 39,
   "metadata": {},
   "outputs": [],
   "source": [
    "tracts = geopandas.read_file(\"./data/CensusTracts/geo_export_a7ef6b7d-a2a7-4254-9883-c91526ccfbe0.shp\")"
   ]
  },
  {
   "cell_type": "code",
   "execution_count": 40,
   "metadata": {},
   "outputs": [],
   "source": [
    "stationsWithTracts = geopandas.sjoin(stations, tracts, how=\"left\", op=\"intersects\")"
   ]
  },
  {
   "cell_type": "code",
   "execution_count": 41,
   "metadata": {},
   "outputs": [
    {
     "output_type": "execute_result",
     "data": {
      "text/plain": "   Station ID  Complex ID GTFS Stop ID Division     Line  \\\n0           1           1          R01      BMT  Astoria   \n1           2           2          R03      BMT  Astoria   \n2           3           3          R04      BMT  Astoria   \n3           4           4          R05      BMT  Astoria   \n4           5           5          R06      BMT  Astoria   \n\n                Stop Name Borough Daytime Routes Structure  GTFS Latitude  \\\n0  Astoria - Ditmars Blvd       Q            N W  Elevated      40.775036   \n1            Astoria Blvd       Q            N W  Elevated      40.770258   \n2                   30 Av       Q            N W  Elevated      40.766779   \n3                Broadway       Q            N W  Elevated      40.761820   \n4                   36 Av       Q            N W  Elevated      40.756804   \n\n      ...       boro_ct201 boro_name cdeligibil  ct2010 ctlabel ntacode  \\\n0     ...          4011500    Queens          E  011500     115    QN72   \n1     ...          4012500    Queens          E  012500     125    QN72   \n2     ...          4006300    Queens          E  006300      63    QN70   \n3     ...          4005900    Queens          I  005900      59    QN70   \n4     ...          4005300    Queens          E  005300      53    QN70   \n\n    ntaname  puma    shape_area   shape_leng  \n0  Steinway  4101  1.997244e+06  5907.898690  \n1  Steinway  4101  1.752217e+06  7021.101428  \n2   Astoria  4101  2.288183e+06  6357.914009  \n3   Astoria  4101  2.047587e+06  6129.011011  \n4   Astoria  4101  2.111786e+06  8537.628224  \n\n[5 rows x 28 columns]",
      "text/html": "<div>\n<style scoped>\n    .dataframe tbody tr th:only-of-type {\n        vertical-align: middle;\n    }\n\n    .dataframe tbody tr th {\n        vertical-align: top;\n    }\n\n    .dataframe thead th {\n        text-align: right;\n    }\n</style>\n<table border=\"1\" class=\"dataframe\">\n  <thead>\n    <tr style=\"text-align: right;\">\n      <th></th>\n      <th>Station ID</th>\n      <th>Complex ID</th>\n      <th>GTFS Stop ID</th>\n      <th>Division</th>\n      <th>Line</th>\n      <th>Stop Name</th>\n      <th>Borough</th>\n      <th>Daytime Routes</th>\n      <th>Structure</th>\n      <th>GTFS Latitude</th>\n      <th>...</th>\n      <th>boro_ct201</th>\n      <th>boro_name</th>\n      <th>cdeligibil</th>\n      <th>ct2010</th>\n      <th>ctlabel</th>\n      <th>ntacode</th>\n      <th>ntaname</th>\n      <th>puma</th>\n      <th>shape_area</th>\n      <th>shape_leng</th>\n    </tr>\n  </thead>\n  <tbody>\n    <tr>\n      <th>0</th>\n      <td>1</td>\n      <td>1</td>\n      <td>R01</td>\n      <td>BMT</td>\n      <td>Astoria</td>\n      <td>Astoria - Ditmars Blvd</td>\n      <td>Q</td>\n      <td>N W</td>\n      <td>Elevated</td>\n      <td>40.775036</td>\n      <td>...</td>\n      <td>4011500</td>\n      <td>Queens</td>\n      <td>E</td>\n      <td>011500</td>\n      <td>115</td>\n      <td>QN72</td>\n      <td>Steinway</td>\n      <td>4101</td>\n      <td>1.997244e+06</td>\n      <td>5907.898690</td>\n    </tr>\n    <tr>\n      <th>1</th>\n      <td>2</td>\n      <td>2</td>\n      <td>R03</td>\n      <td>BMT</td>\n      <td>Astoria</td>\n      <td>Astoria Blvd</td>\n      <td>Q</td>\n      <td>N W</td>\n      <td>Elevated</td>\n      <td>40.770258</td>\n      <td>...</td>\n      <td>4012500</td>\n      <td>Queens</td>\n      <td>E</td>\n      <td>012500</td>\n      <td>125</td>\n      <td>QN72</td>\n      <td>Steinway</td>\n      <td>4101</td>\n      <td>1.752217e+06</td>\n      <td>7021.101428</td>\n    </tr>\n    <tr>\n      <th>2</th>\n      <td>3</td>\n      <td>3</td>\n      <td>R04</td>\n      <td>BMT</td>\n      <td>Astoria</td>\n      <td>30 Av</td>\n      <td>Q</td>\n      <td>N W</td>\n      <td>Elevated</td>\n      <td>40.766779</td>\n      <td>...</td>\n      <td>4006300</td>\n      <td>Queens</td>\n      <td>E</td>\n      <td>006300</td>\n      <td>63</td>\n      <td>QN70</td>\n      <td>Astoria</td>\n      <td>4101</td>\n      <td>2.288183e+06</td>\n      <td>6357.914009</td>\n    </tr>\n    <tr>\n      <th>3</th>\n      <td>4</td>\n      <td>4</td>\n      <td>R05</td>\n      <td>BMT</td>\n      <td>Astoria</td>\n      <td>Broadway</td>\n      <td>Q</td>\n      <td>N W</td>\n      <td>Elevated</td>\n      <td>40.761820</td>\n      <td>...</td>\n      <td>4005900</td>\n      <td>Queens</td>\n      <td>I</td>\n      <td>005900</td>\n      <td>59</td>\n      <td>QN70</td>\n      <td>Astoria</td>\n      <td>4101</td>\n      <td>2.047587e+06</td>\n      <td>6129.011011</td>\n    </tr>\n    <tr>\n      <th>4</th>\n      <td>5</td>\n      <td>5</td>\n      <td>R06</td>\n      <td>BMT</td>\n      <td>Astoria</td>\n      <td>36 Av</td>\n      <td>Q</td>\n      <td>N W</td>\n      <td>Elevated</td>\n      <td>40.756804</td>\n      <td>...</td>\n      <td>4005300</td>\n      <td>Queens</td>\n      <td>E</td>\n      <td>005300</td>\n      <td>53</td>\n      <td>QN70</td>\n      <td>Astoria</td>\n      <td>4101</td>\n      <td>2.111786e+06</td>\n      <td>8537.628224</td>\n    </tr>\n  </tbody>\n</table>\n<p>5 rows × 28 columns</p>\n</div>"
     },
     "metadata": {},
     "execution_count": 41
    }
   ],
   "source": [
    "stationsWithTracts.head()"
   ]
  },
  {
   "cell_type": "code",
   "execution_count": 45,
   "metadata": {},
   "outputs": [],
   "source": [
    "columnsToKeep = ['Station ID', 'Stop Name',\"GTFS Stop ID\", \"ca\",\"Line\",\"Daytime Routes\",'ct2010', \"ntaname\", \"ctlabel\"]"
   ]
  },
  {
   "cell_type": "code",
   "execution_count": 46,
   "metadata": {},
   "outputs": [
    {
     "output_type": "execute_result",
     "data": {
      "text/plain": "Empty GeoDataFrame\nColumns: [Station ID, Complex ID, GTFS Stop ID, Division, Line, Stop Name, Borough, Daytime Routes, Structure, GTFS Latitude, GTFS Longitude, North Direction Label, South Direction Label, ca, stop_id, geometry, index_right, boro_code, boro_ct201, boro_name, cdeligibil, ct2010, ctlabel, ntacode, ntaname, puma, shape_area, shape_leng]\nIndex: []\n\n[0 rows x 28 columns]",
      "text/html": "<div>\n<style scoped>\n    .dataframe tbody tr th:only-of-type {\n        vertical-align: middle;\n    }\n\n    .dataframe tbody tr th {\n        vertical-align: top;\n    }\n\n    .dataframe thead th {\n        text-align: right;\n    }\n</style>\n<table border=\"1\" class=\"dataframe\">\n  <thead>\n    <tr style=\"text-align: right;\">\n      <th></th>\n      <th>Station ID</th>\n      <th>Complex ID</th>\n      <th>GTFS Stop ID</th>\n      <th>Division</th>\n      <th>Line</th>\n      <th>Stop Name</th>\n      <th>Borough</th>\n      <th>Daytime Routes</th>\n      <th>Structure</th>\n      <th>GTFS Latitude</th>\n      <th>...</th>\n      <th>boro_ct201</th>\n      <th>boro_name</th>\n      <th>cdeligibil</th>\n      <th>ct2010</th>\n      <th>ctlabel</th>\n      <th>ntacode</th>\n      <th>ntaname</th>\n      <th>puma</th>\n      <th>shape_area</th>\n      <th>shape_leng</th>\n    </tr>\n  </thead>\n  <tbody>\n  </tbody>\n</table>\n<p>0 rows × 28 columns</p>\n</div>"
     },
     "metadata": {},
     "execution_count": 46
    }
   ],
   "source": [
    "stationsWithTracts[stationsWithTracts.is_empty]"
   ]
  },
  {
   "cell_type": "code",
   "execution_count": 47,
   "metadata": {},
   "outputs": [],
   "source": [
    "stationsWithTracts = stationsWithTracts[columnsToKeep]"
   ]
  },
  {
   "cell_type": "code",
   "execution_count": 48,
   "metadata": {},
   "outputs": [
    {
     "output_type": "execute_result",
     "data": {
      "text/plain": "   Station ID               Stop Name GTFS Stop ID    ca     Line  \\\n0           1  Astoria - Ditmars Blvd          R01  R515  Astoria   \n1           2            Astoria Blvd          R03  R514  Astoria   \n2           3                   30 Av          R04  R513  Astoria   \n3           4                Broadway          R05  R512  Astoria   \n4           5                   36 Av          R06  R511  Astoria   \n\n  Daytime Routes  ct2010   ntaname ctlabel  \n0            N W  011500  Steinway     115  \n1            N W  012500  Steinway     125  \n2            N W  006300   Astoria      63  \n3            N W  005900   Astoria      59  \n4            N W  005300   Astoria      53  ",
      "text/html": "<div>\n<style scoped>\n    .dataframe tbody tr th:only-of-type {\n        vertical-align: middle;\n    }\n\n    .dataframe tbody tr th {\n        vertical-align: top;\n    }\n\n    .dataframe thead th {\n        text-align: right;\n    }\n</style>\n<table border=\"1\" class=\"dataframe\">\n  <thead>\n    <tr style=\"text-align: right;\">\n      <th></th>\n      <th>Station ID</th>\n      <th>Stop Name</th>\n      <th>GTFS Stop ID</th>\n      <th>ca</th>\n      <th>Line</th>\n      <th>Daytime Routes</th>\n      <th>ct2010</th>\n      <th>ntaname</th>\n      <th>ctlabel</th>\n    </tr>\n  </thead>\n  <tbody>\n    <tr>\n      <th>0</th>\n      <td>1</td>\n      <td>Astoria - Ditmars Blvd</td>\n      <td>R01</td>\n      <td>R515</td>\n      <td>Astoria</td>\n      <td>N W</td>\n      <td>011500</td>\n      <td>Steinway</td>\n      <td>115</td>\n    </tr>\n    <tr>\n      <th>1</th>\n      <td>2</td>\n      <td>Astoria Blvd</td>\n      <td>R03</td>\n      <td>R514</td>\n      <td>Astoria</td>\n      <td>N W</td>\n      <td>012500</td>\n      <td>Steinway</td>\n      <td>125</td>\n    </tr>\n    <tr>\n      <th>2</th>\n      <td>3</td>\n      <td>30 Av</td>\n      <td>R04</td>\n      <td>R513</td>\n      <td>Astoria</td>\n      <td>N W</td>\n      <td>006300</td>\n      <td>Astoria</td>\n      <td>63</td>\n    </tr>\n    <tr>\n      <th>3</th>\n      <td>4</td>\n      <td>Broadway</td>\n      <td>R05</td>\n      <td>R512</td>\n      <td>Astoria</td>\n      <td>N W</td>\n      <td>005900</td>\n      <td>Astoria</td>\n      <td>59</td>\n    </tr>\n    <tr>\n      <th>4</th>\n      <td>5</td>\n      <td>36 Av</td>\n      <td>R06</td>\n      <td>R511</td>\n      <td>Astoria</td>\n      <td>N W</td>\n      <td>005300</td>\n      <td>Astoria</td>\n      <td>53</td>\n    </tr>\n  </tbody>\n</table>\n</div>"
     },
     "metadata": {},
     "execution_count": 48
    }
   ],
   "source": [
    "stationsWithTracts.head()"
   ]
  },
  {
   "cell_type": "code",
   "execution_count": 49,
   "metadata": {},
   "outputs": [],
   "source": [
    "stationsWithTracts.to_csv(\"./data/output/stationsWithTracts.csv\", index=False)"
   ]
  },
  {
   "cell_type": "code",
   "execution_count": null,
   "metadata": {},
   "outputs": [],
   "source": []
  }
 ],
 "metadata": {
  "language_info": {
   "codemirror_mode": {
    "name": "ipython",
    "version": 3
   },
   "file_extension": ".py",
   "mimetype": "text/x-python",
   "name": "python",
   "nbconvert_exporter": "python",
   "pygments_lexer": "ipython3",
   "version": "3.7.1-final"
  },
  "orig_nbformat": 2,
  "kernelspec": {
   "name": "python37164bitbaseconda04659184937c46f9a0b6ad1d38ad8503",
   "display_name": "Python 3.7.1 64-bit ('base': conda)"
  }
 },
 "nbformat": 4,
 "nbformat_minor": 2
}