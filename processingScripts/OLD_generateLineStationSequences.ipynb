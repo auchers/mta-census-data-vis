{
 "cells": [
  {
   "cell_type": "code",
   "execution_count": 119,
   "metadata": {},
   "outputs": [],
   "source": [
    "import pandas as pd \n",
    "import numpy as np\n",
    "pd.options.display.max_rows = 1000"
   ]
  },
  {
   "cell_type": "code",
   "execution_count": 120,
   "metadata": {},
   "outputs": [],
   "source": [
    "routes = pd.read_csv(\"../data/google_transit/routes.csv\")"
   ]
  },
  {
   "cell_type": "code",
   "execution_count": 121,
   "metadata": {},
   "outputs": [],
   "source": [
    "trips = pd.read_csv(\"../data/google_transit/trips.txt\")"
   ]
  },
  {
   "cell_type": "code",
   "execution_count": 122,
   "metadata": {},
   "outputs": [],
   "source": [
    "stops = pd.read_csv(\"../data/google_transit/stops.csv\")"
   ]
  },
  {
   "cell_type": "code",
   "execution_count": 123,
   "metadata": {},
   "outputs": [],
   "source": [
    "stop_times = pd.read_csv(\"../data/google_transit/stop_times.csv\")"
   ]
  },
  {
   "cell_type": "code",
   "execution_count": 124,
   "metadata": {},
   "outputs": [],
   "source": [
    "stations = pd.read_csv(\"../data/output/stationsWithTracts.csv\")"
   ]
  },
  {
   "cell_type": "code",
   "execution_count": 125,
   "metadata": {},
   "outputs": [
    {
     "output_type": "execute_result",
     "data": {
      "text/plain": "  station_code station GTFS_stop_id    C/A line_name  ct2010  \\\n0    H007AR248    1 AV          L06  H007A         L    3400   \n1     H007R248    1 AV          L06   H007         L    3400   \n2     H008R248    1 AV          L06   H008         L    3400   \n3     N037R314  103 ST          A18   N037        BC   14300   \n4     R170R191  103 ST          119   R170         1   19100   \n\n                       ntaname  ctlabel                      geometry  \\\n0                 East Village     34.0  POINT (-73.981628 40.730953)   \n1                 East Village     34.0  POINT (-73.981628 40.730953)   \n2                 East Village     34.0  POINT (-73.981628 40.730953)   \n3  park-cemetery-etc-Manhattan    143.0  POINT (-73.961454 40.796092)   \n4              Upper West Side    191.0  POINT (-73.968379 40.799446)   \n\n         lat       long  \n0  40.730953 -73.981628  \n1  40.730953 -73.981628  \n2  40.730953 -73.981628  \n3  40.796092 -73.961454  \n4  40.799446 -73.968379  ",
      "text/html": "<div>\n<style scoped>\n    .dataframe tbody tr th:only-of-type {\n        vertical-align: middle;\n    }\n\n    .dataframe tbody tr th {\n        vertical-align: top;\n    }\n\n    .dataframe thead th {\n        text-align: right;\n    }\n</style>\n<table border=\"1\" class=\"dataframe\">\n  <thead>\n    <tr style=\"text-align: right;\">\n      <th></th>\n      <th>station_code</th>\n      <th>station</th>\n      <th>GTFS_stop_id</th>\n      <th>C/A</th>\n      <th>line_name</th>\n      <th>ct2010</th>\n      <th>ntaname</th>\n      <th>ctlabel</th>\n      <th>geometry</th>\n      <th>lat</th>\n      <th>long</th>\n    </tr>\n  </thead>\n  <tbody>\n    <tr>\n      <th>0</th>\n      <td>H007AR248</td>\n      <td>1 AV</td>\n      <td>L06</td>\n      <td>H007A</td>\n      <td>L</td>\n      <td>3400</td>\n      <td>East Village</td>\n      <td>34.0</td>\n      <td>POINT (-73.981628 40.730953)</td>\n      <td>40.730953</td>\n      <td>-73.981628</td>\n    </tr>\n    <tr>\n      <th>1</th>\n      <td>H007R248</td>\n      <td>1 AV</td>\n      <td>L06</td>\n      <td>H007</td>\n      <td>L</td>\n      <td>3400</td>\n      <td>East Village</td>\n      <td>34.0</td>\n      <td>POINT (-73.981628 40.730953)</td>\n      <td>40.730953</td>\n      <td>-73.981628</td>\n    </tr>\n    <tr>\n      <th>2</th>\n      <td>H008R248</td>\n      <td>1 AV</td>\n      <td>L06</td>\n      <td>H008</td>\n      <td>L</td>\n      <td>3400</td>\n      <td>East Village</td>\n      <td>34.0</td>\n      <td>POINT (-73.981628 40.730953)</td>\n      <td>40.730953</td>\n      <td>-73.981628</td>\n    </tr>\n    <tr>\n      <th>3</th>\n      <td>N037R314</td>\n      <td>103 ST</td>\n      <td>A18</td>\n      <td>N037</td>\n      <td>BC</td>\n      <td>14300</td>\n      <td>park-cemetery-etc-Manhattan</td>\n      <td>143.0</td>\n      <td>POINT (-73.961454 40.796092)</td>\n      <td>40.796092</td>\n      <td>-73.961454</td>\n    </tr>\n    <tr>\n      <th>4</th>\n      <td>R170R191</td>\n      <td>103 ST</td>\n      <td>119</td>\n      <td>R170</td>\n      <td>1</td>\n      <td>19100</td>\n      <td>Upper West Side</td>\n      <td>191.0</td>\n      <td>POINT (-73.968379 40.799446)</td>\n      <td>40.799446</td>\n      <td>-73.968379</td>\n    </tr>\n  </tbody>\n</table>\n</div>"
     },
     "metadata": {},
     "execution_count": 125
    }
   ],
   "source": [
    "stations.head()"
   ]
  },
  {
   "cell_type": "code",
   "execution_count": 126,
   "metadata": {},
   "outputs": [],
   "source": [
    "# concat station codes so that there is only 1 row per gtfs stop id\n",
    "stations_with_unified_id = (stations.groupby([\"GTFS_stop_id\"], as_index=False)[\"station_code\", \"station\"]\n",
    "    .agg({'station': np.min, \"station_code\": ','.join}) \n",
    ")"
   ]
  },
  {
   "cell_type": "code",
   "execution_count": 127,
   "metadata": {},
   "outputs": [
    {
     "output_type": "execute_result",
     "data": {
      "text/plain": "  GTFS_stop_id          station station_code\n0          101   V.CORTLANDT PK     R197R117\n1          103           238 ST     R196R306\n2          104           231 ST     R194R040\n3          106  MARBLE HILL-225     R192R039\n4          107           215 ST     R190R038",
      "text/html": "<div>\n<style scoped>\n    .dataframe tbody tr th:only-of-type {\n        vertical-align: middle;\n    }\n\n    .dataframe tbody tr th {\n        vertical-align: top;\n    }\n\n    .dataframe thead th {\n        text-align: right;\n    }\n</style>\n<table border=\"1\" class=\"dataframe\">\n  <thead>\n    <tr style=\"text-align: right;\">\n      <th></th>\n      <th>GTFS_stop_id</th>\n      <th>station</th>\n      <th>station_code</th>\n    </tr>\n  </thead>\n  <tbody>\n    <tr>\n      <th>0</th>\n      <td>101</td>\n      <td>V.CORTLANDT PK</td>\n      <td>R197R117</td>\n    </tr>\n    <tr>\n      <th>1</th>\n      <td>103</td>\n      <td>238 ST</td>\n      <td>R196R306</td>\n    </tr>\n    <tr>\n      <th>2</th>\n      <td>104</td>\n      <td>231 ST</td>\n      <td>R194R040</td>\n    </tr>\n    <tr>\n      <th>3</th>\n      <td>106</td>\n      <td>MARBLE HILL-225</td>\n      <td>R192R039</td>\n    </tr>\n    <tr>\n      <th>4</th>\n      <td>107</td>\n      <td>215 ST</td>\n      <td>R190R038</td>\n    </tr>\n  </tbody>\n</table>\n</div>"
     },
     "metadata": {},
     "execution_count": 127
    }
   ],
   "source": [
    "stations_with_unified_id.head()"
   ]
  },
  {
   "cell_type": "code",
   "execution_count": 128,
   "metadata": {},
   "outputs": [],
   "source": [
    "\n",
    "# 1. get 'parent id' for each stop (stops are divided by N/S variance ex 'R11S' and 'R11N' which are stop 'R11')\n",
    "stop_times_with_stations = stop_times.merge(stops[[\"stop_id\", \"parent_station\"]], on=\"stop_id\", how=\"left\")\n",
    "\n",
    "# 2. use parent id to get station name from master station dataset\n",
    "stop_times_with_stations = stop_times_with_stations.merge(stations_with_unified_id, left_on=\"parent_station\", right_on=\"GTFS_stop_id\", how=\"left\")"
   ]
  },
  {
   "cell_type": "code",
   "execution_count": 129,
   "metadata": {},
   "outputs": [
    {
     "output_type": "execute_result",
     "data": {
      "text/plain": "                                  trip_id arrival_time departure_time stop_id  \\\n0  AFA19GEN-1037-Sunday-00_000600_1..S03R     00:06:00       00:06:00    101S   \n1  AFA19GEN-1037-Sunday-00_000600_1..S03R     00:07:30       00:07:30    103S   \n2  AFA19GEN-1037-Sunday-00_000600_1..S03R     00:09:00       00:09:00    104S   \n3  AFA19GEN-1037-Sunday-00_000600_1..S03R     00:10:30       00:10:30    106S   \n4  AFA19GEN-1037-Sunday-00_000600_1..S03R     00:12:00       00:12:00    107S   \n\n   stop_sequence  stop_headsign  pickup_type  drop_off_type  \\\n0              1            NaN            0              0   \n1              2            NaN            0              0   \n2              3            NaN            0              0   \n3              4            NaN            0              0   \n4              5            NaN            0              0   \n\n   shape_dist_traveled parent_station GTFS_stop_id          station  \\\n0                  NaN            101          101   V.CORTLANDT PK   \n1                  NaN            103          103           238 ST   \n2                  NaN            104          104           231 ST   \n3                  NaN            106          106  MARBLE HILL-225   \n4                  NaN            107          107           215 ST   \n\n  station_code  \n0     R197R117  \n1     R196R306  \n2     R194R040  \n3     R192R039  \n4     R190R038  ",
      "text/html": "<div>\n<style scoped>\n    .dataframe tbody tr th:only-of-type {\n        vertical-align: middle;\n    }\n\n    .dataframe tbody tr th {\n        vertical-align: top;\n    }\n\n    .dataframe thead th {\n        text-align: right;\n    }\n</style>\n<table border=\"1\" class=\"dataframe\">\n  <thead>\n    <tr style=\"text-align: right;\">\n      <th></th>\n      <th>trip_id</th>\n      <th>arrival_time</th>\n      <th>departure_time</th>\n      <th>stop_id</th>\n      <th>stop_sequence</th>\n      <th>stop_headsign</th>\n      <th>pickup_type</th>\n      <th>drop_off_type</th>\n      <th>shape_dist_traveled</th>\n      <th>parent_station</th>\n      <th>GTFS_stop_id</th>\n      <th>station</th>\n      <th>station_code</th>\n    </tr>\n  </thead>\n  <tbody>\n    <tr>\n      <th>0</th>\n      <td>AFA19GEN-1037-Sunday-00_000600_1..S03R</td>\n      <td>00:06:00</td>\n      <td>00:06:00</td>\n      <td>101S</td>\n      <td>1</td>\n      <td>NaN</td>\n      <td>0</td>\n      <td>0</td>\n      <td>NaN</td>\n      <td>101</td>\n      <td>101</td>\n      <td>V.CORTLANDT PK</td>\n      <td>R197R117</td>\n    </tr>\n    <tr>\n      <th>1</th>\n      <td>AFA19GEN-1037-Sunday-00_000600_1..S03R</td>\n      <td>00:07:30</td>\n      <td>00:07:30</td>\n      <td>103S</td>\n      <td>2</td>\n      <td>NaN</td>\n      <td>0</td>\n      <td>0</td>\n      <td>NaN</td>\n      <td>103</td>\n      <td>103</td>\n      <td>238 ST</td>\n      <td>R196R306</td>\n    </tr>\n    <tr>\n      <th>2</th>\n      <td>AFA19GEN-1037-Sunday-00_000600_1..S03R</td>\n      <td>00:09:00</td>\n      <td>00:09:00</td>\n      <td>104S</td>\n      <td>3</td>\n      <td>NaN</td>\n      <td>0</td>\n      <td>0</td>\n      <td>NaN</td>\n      <td>104</td>\n      <td>104</td>\n      <td>231 ST</td>\n      <td>R194R040</td>\n    </tr>\n    <tr>\n      <th>3</th>\n      <td>AFA19GEN-1037-Sunday-00_000600_1..S03R</td>\n      <td>00:10:30</td>\n      <td>00:10:30</td>\n      <td>106S</td>\n      <td>4</td>\n      <td>NaN</td>\n      <td>0</td>\n      <td>0</td>\n      <td>NaN</td>\n      <td>106</td>\n      <td>106</td>\n      <td>MARBLE HILL-225</td>\n      <td>R192R039</td>\n    </tr>\n    <tr>\n      <th>4</th>\n      <td>AFA19GEN-1037-Sunday-00_000600_1..S03R</td>\n      <td>00:12:00</td>\n      <td>00:12:00</td>\n      <td>107S</td>\n      <td>5</td>\n      <td>NaN</td>\n      <td>0</td>\n      <td>0</td>\n      <td>NaN</td>\n      <td>107</td>\n      <td>107</td>\n      <td>215 ST</td>\n      <td>R190R038</td>\n    </tr>\n  </tbody>\n</table>\n</div>"
     },
     "metadata": {},
     "execution_count": 129
    }
   ],
   "source": [
    "stop_times_with_stations.head()"
   ]
  },
  {
   "cell_type": "code",
   "execution_count": 130,
   "metadata": {},
   "outputs": [],
   "source": [
    "# ref: https://stackoverflow.com/a/40490276\n",
    "sequencesPerTrip = (stop_times_with_stations.groupby([\"trip_id\"])\n",
    "    .apply(lambda x: x[[\"stop_id\", \"stop_sequence\", \"station_code\", \"station\"]].to_dict(\"r\"))\n",
    "    .reset_index()\n",
    "    .rename(columns={0:'stop_sequence'})\n",
    ")"
   ]
  },
  {
   "cell_type": "code",
   "execution_count": 131,
   "metadata": {},
   "outputs": [
    {
     "output_type": "execute_result",
     "data": {
      "text/plain": "                                  trip_id  \\\n0  AFA19GEN-1037-Sunday-00_000600_1..S03R   \n1  AFA19GEN-1037-Sunday-00_002600_1..S03R   \n2  AFA19GEN-1037-Sunday-00_004600_1..S03R   \n3  AFA19GEN-1037-Sunday-00_006600_1..S03R   \n4  AFA19GEN-1037-Sunday-00_007200_1..N03R   \n\n                                       stop_sequence  \n0  [{'stop_id': '101S', 'stop_sequence': 1, 'stat...  \n1  [{'stop_id': '101S', 'stop_sequence': 1, 'stat...  \n2  [{'stop_id': '101S', 'stop_sequence': 1, 'stat...  \n3  [{'stop_id': '101S', 'stop_sequence': 1, 'stat...  \n4  [{'stop_id': '142N', 'stop_sequence': 1, 'stat...  ",
      "text/html": "<div>\n<style scoped>\n    .dataframe tbody tr th:only-of-type {\n        vertical-align: middle;\n    }\n\n    .dataframe tbody tr th {\n        vertical-align: top;\n    }\n\n    .dataframe thead th {\n        text-align: right;\n    }\n</style>\n<table border=\"1\" class=\"dataframe\">\n  <thead>\n    <tr style=\"text-align: right;\">\n      <th></th>\n      <th>trip_id</th>\n      <th>stop_sequence</th>\n    </tr>\n  </thead>\n  <tbody>\n    <tr>\n      <th>0</th>\n      <td>AFA19GEN-1037-Sunday-00_000600_1..S03R</td>\n      <td>[{'stop_id': '101S', 'stop_sequence': 1, 'stat...</td>\n    </tr>\n    <tr>\n      <th>1</th>\n      <td>AFA19GEN-1037-Sunday-00_002600_1..S03R</td>\n      <td>[{'stop_id': '101S', 'stop_sequence': 1, 'stat...</td>\n    </tr>\n    <tr>\n      <th>2</th>\n      <td>AFA19GEN-1037-Sunday-00_004600_1..S03R</td>\n      <td>[{'stop_id': '101S', 'stop_sequence': 1, 'stat...</td>\n    </tr>\n    <tr>\n      <th>3</th>\n      <td>AFA19GEN-1037-Sunday-00_006600_1..S03R</td>\n      <td>[{'stop_id': '101S', 'stop_sequence': 1, 'stat...</td>\n    </tr>\n    <tr>\n      <th>4</th>\n      <td>AFA19GEN-1037-Sunday-00_007200_1..N03R</td>\n      <td>[{'stop_id': '142N', 'stop_sequence': 1, 'stat...</td>\n    </tr>\n  </tbody>\n</table>\n</div>"
     },
     "metadata": {},
     "execution_count": 131
    }
   ],
   "source": [
    "sequencesPerTrip.head()"
   ]
  },
  {
   "cell_type": "code",
   "execution_count": 132,
   "metadata": {},
   "outputs": [],
   "source": [
    "tripWithRoute = sequencesPerTrip.merge(trips[[\"trip_id\", \"trip_headsign\", \"direction_id\", \"route_id\"]], on=\"trip_id\")"
   ]
  },
  {
   "cell_type": "code",
   "execution_count": 133,
   "metadata": {},
   "outputs": [
    {
     "output_type": "execute_result",
     "data": {
      "text/plain": "  route_id               service_id                                 trip_id  \\\n0        1  AFA19GEN-1037-Sunday-00  AFA19GEN-1037-Sunday-00_000600_1..S03R   \n1        1  AFA19GEN-1037-Sunday-00  AFA19GEN-1037-Sunday-00_002600_1..S03R   \n2        1  AFA19GEN-1037-Sunday-00  AFA19GEN-1037-Sunday-00_004600_1..S03R   \n3        1  AFA19GEN-1037-Sunday-00  AFA19GEN-1037-Sunday-00_006600_1..S03R   \n4        1  AFA19GEN-1037-Sunday-00  AFA19GEN-1037-Sunday-00_007200_1..N03R   \n\n                 trip_headsign  direction_id  block_id shape_id  \n0                  South Ferry             1       NaN  1..S03R  \n1                  South Ferry             1       NaN  1..S03R  \n2                  South Ferry             1       NaN  1..S03R  \n3                  South Ferry             1       NaN  1..S03R  \n4  Van Cortlandt Park - 242 St             0       NaN  1..N03R  ",
      "text/html": "<div>\n<style scoped>\n    .dataframe tbody tr th:only-of-type {\n        vertical-align: middle;\n    }\n\n    .dataframe tbody tr th {\n        vertical-align: top;\n    }\n\n    .dataframe thead th {\n        text-align: right;\n    }\n</style>\n<table border=\"1\" class=\"dataframe\">\n  <thead>\n    <tr style=\"text-align: right;\">\n      <th></th>\n      <th>route_id</th>\n      <th>service_id</th>\n      <th>trip_id</th>\n      <th>trip_headsign</th>\n      <th>direction_id</th>\n      <th>block_id</th>\n      <th>shape_id</th>\n    </tr>\n  </thead>\n  <tbody>\n    <tr>\n      <th>0</th>\n      <td>1</td>\n      <td>AFA19GEN-1037-Sunday-00</td>\n      <td>AFA19GEN-1037-Sunday-00_000600_1..S03R</td>\n      <td>South Ferry</td>\n      <td>1</td>\n      <td>NaN</td>\n      <td>1..S03R</td>\n    </tr>\n    <tr>\n      <th>1</th>\n      <td>1</td>\n      <td>AFA19GEN-1037-Sunday-00</td>\n      <td>AFA19GEN-1037-Sunday-00_002600_1..S03R</td>\n      <td>South Ferry</td>\n      <td>1</td>\n      <td>NaN</td>\n      <td>1..S03R</td>\n    </tr>\n    <tr>\n      <th>2</th>\n      <td>1</td>\n      <td>AFA19GEN-1037-Sunday-00</td>\n      <td>AFA19GEN-1037-Sunday-00_004600_1..S03R</td>\n      <td>South Ferry</td>\n      <td>1</td>\n      <td>NaN</td>\n      <td>1..S03R</td>\n    </tr>\n    <tr>\n      <th>3</th>\n      <td>1</td>\n      <td>AFA19GEN-1037-Sunday-00</td>\n      <td>AFA19GEN-1037-Sunday-00_006600_1..S03R</td>\n      <td>South Ferry</td>\n      <td>1</td>\n      <td>NaN</td>\n      <td>1..S03R</td>\n    </tr>\n    <tr>\n      <th>4</th>\n      <td>1</td>\n      <td>AFA19GEN-1037-Sunday-00</td>\n      <td>AFA19GEN-1037-Sunday-00_007200_1..N03R</td>\n      <td>Van Cortlandt Park - 242 St</td>\n      <td>0</td>\n      <td>NaN</td>\n      <td>1..N03R</td>\n    </tr>\n  </tbody>\n</table>\n</div>"
     },
     "metadata": {},
     "execution_count": 133
    }
   ],
   "source": [
    "trips.head()"
   ]
  },
  {
   "cell_type": "code",
   "execution_count": 134,
   "metadata": {},
   "outputs": [
    {
     "output_type": "execute_result",
     "data": {
      "text/plain": "                                  trip_id  \\\n0  AFA19GEN-1037-Sunday-00_000600_1..S03R   \n1  AFA19GEN-1037-Sunday-00_002600_1..S03R   \n2  AFA19GEN-1037-Sunday-00_004600_1..S03R   \n3  AFA19GEN-1037-Sunday-00_006600_1..S03R   \n4  AFA19GEN-1037-Sunday-00_007200_1..N03R   \n\n                                       stop_sequence  \\\n0  [{'stop_id': '101S', 'stop_sequence': 1, 'stat...   \n1  [{'stop_id': '101S', 'stop_sequence': 1, 'stat...   \n2  [{'stop_id': '101S', 'stop_sequence': 1, 'stat...   \n3  [{'stop_id': '101S', 'stop_sequence': 1, 'stat...   \n4  [{'stop_id': '142N', 'stop_sequence': 1, 'stat...   \n\n                 trip_headsign  direction_id route_id  \n0                  South Ferry             1        1  \n1                  South Ferry             1        1  \n2                  South Ferry             1        1  \n3                  South Ferry             1        1  \n4  Van Cortlandt Park - 242 St             0        1  ",
      "text/html": "<div>\n<style scoped>\n    .dataframe tbody tr th:only-of-type {\n        vertical-align: middle;\n    }\n\n    .dataframe tbody tr th {\n        vertical-align: top;\n    }\n\n    .dataframe thead th {\n        text-align: right;\n    }\n</style>\n<table border=\"1\" class=\"dataframe\">\n  <thead>\n    <tr style=\"text-align: right;\">\n      <th></th>\n      <th>trip_id</th>\n      <th>stop_sequence</th>\n      <th>trip_headsign</th>\n      <th>direction_id</th>\n      <th>route_id</th>\n    </tr>\n  </thead>\n  <tbody>\n    <tr>\n      <th>0</th>\n      <td>AFA19GEN-1037-Sunday-00_000600_1..S03R</td>\n      <td>[{'stop_id': '101S', 'stop_sequence': 1, 'stat...</td>\n      <td>South Ferry</td>\n      <td>1</td>\n      <td>1</td>\n    </tr>\n    <tr>\n      <th>1</th>\n      <td>AFA19GEN-1037-Sunday-00_002600_1..S03R</td>\n      <td>[{'stop_id': '101S', 'stop_sequence': 1, 'stat...</td>\n      <td>South Ferry</td>\n      <td>1</td>\n      <td>1</td>\n    </tr>\n    <tr>\n      <th>2</th>\n      <td>AFA19GEN-1037-Sunday-00_004600_1..S03R</td>\n      <td>[{'stop_id': '101S', 'stop_sequence': 1, 'stat...</td>\n      <td>South Ferry</td>\n      <td>1</td>\n      <td>1</td>\n    </tr>\n    <tr>\n      <th>3</th>\n      <td>AFA19GEN-1037-Sunday-00_006600_1..S03R</td>\n      <td>[{'stop_id': '101S', 'stop_sequence': 1, 'stat...</td>\n      <td>South Ferry</td>\n      <td>1</td>\n      <td>1</td>\n    </tr>\n    <tr>\n      <th>4</th>\n      <td>AFA19GEN-1037-Sunday-00_007200_1..N03R</td>\n      <td>[{'stop_id': '142N', 'stop_sequence': 1, 'stat...</td>\n      <td>Van Cortlandt Park - 242 St</td>\n      <td>0</td>\n      <td>1</td>\n    </tr>\n  </tbody>\n</table>\n</div>"
     },
     "metadata": {},
     "execution_count": 134
    }
   ],
   "source": [
    "tripWithRoute.head()"
   ]
  },
  {
   "cell_type": "code",
   "execution_count": 135,
   "metadata": {},
   "outputs": [],
   "source": [
    "routeSequences = tripWithRoute.groupby([\"route_id\", \"trip_headsign\", \"direction_id\"], as_index=False).first()"
   ]
  },
  {
   "cell_type": "code",
   "execution_count": 136,
   "metadata": {},
   "outputs": [
    {
     "output_type": "execute_result",
     "data": {
      "text/plain": "  route_id                   trip_headsign  direction_id  \\\n0        1           137 St - City College             0   \n1        1                          215 St             0   \n2        1                     South Ferry             1   \n3        1     Van Cortlandt Park - 242 St             0   \n4        2  Flatbush Av - Brooklyn College             1   \n\n                                    trip_id  \\\n0   AFA19GEN-1087-Weekday-00_047050_1..N12R   \n1   AFA19GEN-1087-Weekday-00_052550_1..N13R   \n2    AFA19GEN-1037-Sunday-00_000600_1..S03R   \n3    AFA19GEN-1037-Sunday-00_007200_1..N03R   \n4  AFA19GEN-2042-Saturday-00_001900_2..S08R   \n\n                                       stop_sequence  \n0  [{'stop_id': '142N', 'stop_sequence': 1, 'stat...  \n1  [{'stop_id': '142N', 'stop_sequence': 1, 'stat...  \n2  [{'stop_id': '101S', 'stop_sequence': 1, 'stat...  \n3  [{'stop_id': '142N', 'stop_sequence': 1, 'stat...  \n4  [{'stop_id': '201S', 'stop_sequence': 1, 'stat...  ",
      "text/html": "<div>\n<style scoped>\n    .dataframe tbody tr th:only-of-type {\n        vertical-align: middle;\n    }\n\n    .dataframe tbody tr th {\n        vertical-align: top;\n    }\n\n    .dataframe thead th {\n        text-align: right;\n    }\n</style>\n<table border=\"1\" class=\"dataframe\">\n  <thead>\n    <tr style=\"text-align: right;\">\n      <th></th>\n      <th>route_id</th>\n      <th>trip_headsign</th>\n      <th>direction_id</th>\n      <th>trip_id</th>\n      <th>stop_sequence</th>\n    </tr>\n  </thead>\n  <tbody>\n    <tr>\n      <th>0</th>\n      <td>1</td>\n      <td>137 St - City College</td>\n      <td>0</td>\n      <td>AFA19GEN-1087-Weekday-00_047050_1..N12R</td>\n      <td>[{'stop_id': '142N', 'stop_sequence': 1, 'stat...</td>\n    </tr>\n    <tr>\n      <th>1</th>\n      <td>1</td>\n      <td>215 St</td>\n      <td>0</td>\n      <td>AFA19GEN-1087-Weekday-00_052550_1..N13R</td>\n      <td>[{'stop_id': '142N', 'stop_sequence': 1, 'stat...</td>\n    </tr>\n    <tr>\n      <th>2</th>\n      <td>1</td>\n      <td>South Ferry</td>\n      <td>1</td>\n      <td>AFA19GEN-1037-Sunday-00_000600_1..S03R</td>\n      <td>[{'stop_id': '101S', 'stop_sequence': 1, 'stat...</td>\n    </tr>\n    <tr>\n      <th>3</th>\n      <td>1</td>\n      <td>Van Cortlandt Park - 242 St</td>\n      <td>0</td>\n      <td>AFA19GEN-1037-Sunday-00_007200_1..N03R</td>\n      <td>[{'stop_id': '142N', 'stop_sequence': 1, 'stat...</td>\n    </tr>\n    <tr>\n      <th>4</th>\n      <td>2</td>\n      <td>Flatbush Av - Brooklyn College</td>\n      <td>1</td>\n      <td>AFA19GEN-2042-Saturday-00_001900_2..S08R</td>\n      <td>[{'stop_id': '201S', 'stop_sequence': 1, 'stat...</td>\n    </tr>\n  </tbody>\n</table>\n</div>"
     },
     "metadata": {},
     "execution_count": 136
    }
   ],
   "source": [
    "routeSequences.head()"
   ]
  },
  {
   "cell_type": "code",
   "execution_count": 137,
   "metadata": {},
   "outputs": [],
   "source": [
    "routeSequences.to_json(\"../data/output/route_sequences.json\", orient=\"records\")"
   ]
  },
  {
   "cell_type": "code",
   "execution_count": null,
   "metadata": {},
   "outputs": [],
   "source": []
  }
 ],
 "metadata": {
  "language_info": {
   "codemirror_mode": {
    "name": "ipython",
    "version": 3
   },
   "file_extension": ".py",
   "mimetype": "text/x-python",
   "name": "python",
   "nbconvert_exporter": "python",
   "pygments_lexer": "ipython3",
   "version": "3.7.1-final"
  },
  "orig_nbformat": 2,
  "kernelspec": {
   "name": "python37164bitbaseconda04659184937c46f9a0b6ad1d38ad8503",
   "display_name": "Python 3.7.1 64-bit ('base': conda)"
  }
 },
 "nbformat": 4,
 "nbformat_minor": 2
}