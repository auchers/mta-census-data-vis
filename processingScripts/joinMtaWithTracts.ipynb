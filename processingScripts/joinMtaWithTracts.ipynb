{
 "cells": [
  {
   "cell_type": "code",
   "execution_count": null,
   "metadata": {},
   "outputs": [],
   "source": [
    "import pandas as pd\n",
    "import numpy as np"
   ]
  },
  {
   "cell_type": "code",
   "execution_count": null,
   "metadata": {},
   "outputs": [],
   "source": [
    "stationsToTracts = pd.read_csv(\"./data/output/stationsWithTracts.csv\")\n",
    "mtaDailyStats = pd.read_csv(\"./data/output/dailyMTAStats.csv\")"
   ]
  },
  {
   "cell_type": "code",
   "execution_count": null,
   "metadata": {},
   "outputs": [],
   "source": [
    "stationsToTracts[\"Station\"] = stationsToTracts[\"Stop Name\"].str.upper().str.replace(\" - \", \"-\")"
   ]
  },
  {
   "cell_type": "code",
   "execution_count": null,
   "metadata": {},
   "outputs": [],
   "source": [
    "dailyStatsWithTracts = pd.merge(mtaDailyStats, stationsToTracts, how=\"left\", on=\"Station\")"
   ]
  },
  {
   "cell_type": "code",
   "execution_count": null,
   "metadata": {},
   "outputs": [],
   "source": [
    "# null checks\n",
    "# dailyStatsWithTracts[dailyStatsWithTracts[\"ct2010\"].isna()][\"Station\"].value_counts()\n",
    "# dailyStatsWithTracts[dailyStatsWithTracts[\"ct2010\"].notnull()][\"Station\"].value_counts()"
   ]
  },
  {
   "cell_type": "code",
   "execution_count": null,
   "metadata": {},
   "outputs": [],
   "source": [
    "# make sure there is only 1 row per station-line name-day\n",
    "dailyStatsWithTracts = dailyStatsWithTracts.groupby([\"Station\", \"Line Name\", \"Date\"]).first().reset_index() # selects the first\n",
    "dailyStatsWithTracts.groupby([\"Station\", \"Line Name\"]).size() # checks to make sure"
   ]
  },
  {
   "cell_type": "code",
   "execution_count": null,
   "metadata": {},
   "outputs": [],
   "source": [
    "dailyStatsWithTracts.to_csv(\"./data/output/dailyMTAStatsWithTracts.csv\", index=False)"
   ]
  }
 ],
 "metadata": {
  "language_info": {
   "codemirror_mode": {
    "name": "ipython",
    "version": 3
   },
   "file_extension": ".py",
   "mimetype": "text/x-python",
   "name": "python",
   "nbconvert_exporter": "python",
   "pygments_lexer": "ipython3",
   "version": "3.7.1-final"
  },
  "orig_nbformat": 2,
  "kernelspec": {
   "name": "python37164bitbaseconda04659184937c46f9a0b6ad1d38ad8503",
   "display_name": "Python 3.7.1 64-bit ('base': conda)"
  }
 },
 "nbformat": 4,
 "nbformat_minor": 2
}