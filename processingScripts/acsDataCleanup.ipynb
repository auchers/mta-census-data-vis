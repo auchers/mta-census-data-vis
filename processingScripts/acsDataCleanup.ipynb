{
 "cells": [
  {
   "cell_type": "code",
   "execution_count": 2,
   "metadata": {},
   "outputs": [],
   "source": [
    "import pandas as pd\n",
    "import numpy as np\n",
    "import geopandas"
   ]
  },
  {
   "cell_type": "code",
   "execution_count": 8,
   "metadata": {},
   "outputs": [],
   "source": [
    "survey= pd.read_csv(\"../data/ACSDP5Y2018.DP03_2020-04-22T145922/ACSDP5Y2018.DP03_data_with_overlays_2020-04-22T145911.csv\", header=[0,1]) # take two rows as dual column name"
   ]
  },
  {
   "cell_type": "code",
   "execution_count": 9,
   "metadata": {},
   "outputs": [
    {
     "output_type": "execute_result",
     "data": {
      "text/plain": "                 GEO_ID                                     NAME  \\\n                     id                     Geographic Area Name   \n0  1400000US36005000100   Census Tract 1, Bronx County, New York   \n1  1400000US36005000200   Census Tract 2, Bronx County, New York   \n2  1400000US36005000400   Census Tract 4, Bronx County, New York   \n3  1400000US36005001600  Census Tract 16, Bronx County, New York   \n4  1400000US36005001900  Census Tract 19, Bronx County, New York   \n\n                                                 DP03_0001E  \\\n  Estimate!!EMPLOYMENT STATUS!!Population 16 years and over   \n0                                               7080          \n1                                               3684          \n2                                               4689          \n3                                               4598          \n4                                               2066          \n\n                                                        DP03_0001M  \\\n  Margin of Error!!EMPLOYMENT STATUS!!Population 16 years and over   \n0                                                290                 \n1                                                491                 \n2                                                425                 \n3                                                351                 \n4                                                266                 \n\n                                                        DP03_0001PE  \\\n  Percent Estimate!!EMPLOYMENT STATUS!!Population 16 years and over   \n0                                               7080                  \n1                                               3684                  \n2                                               4689                  \n3                                               4598                  \n4                                               2066                  \n\n                                                               DP03_0001PM  \\\n  Percent Margin of Error!!EMPLOYMENT STATUS!!Population 16 years and over   \n0                                                (X)                         \n1                                                (X)                         \n2                                                (X)                         \n3                                                (X)                         \n4                                                (X)                         \n\n                                                                 DP03_0002E  \\\n  Estimate!!EMPLOYMENT STATUS!!Population 16 years and over!!In labor force   \n0                                                  0                          \n1                                               1873                          \n2                                               3052                          \n3                                               2477                          \n4                                               1458                          \n\n                                                                        DP03_0002M  \\\n  Margin of Error!!EMPLOYMENT STATUS!!Population 16 years and over!!In labor force   \n0                                                 17                                 \n1                                                296                                 \n2                                                385                                 \n3                                                266                                 \n4                                                203                                 \n\n                                                                        DP03_0002PE  \\\n  Percent Estimate!!EMPLOYMENT STATUS!!Population 16 years and over!!In labor force   \n0                                                0.0                                  \n1                                               50.8                                  \n2                                               65.1                                  \n3                                               53.9                                  \n4                                               70.6                                  \n\n                                                                               DP03_0002PM  \\\n  Percent Margin of Error!!EMPLOYMENT STATUS!!Population 16 years and over!!In labor force   \n0                                                0.5                                         \n1                                                6.7                                         \n2                                                5.1                                         \n3                                                4.5                                         \n4                                                6.1                                         \n\n                                                                                 ...                                                                                 \\\n                                                                                 ...                                                                                  \n0                                                                                ...                                                                                  \n1                                                                                ...                                                                                  \n2                                                                                ...                                                                                  \n3                                                                                ...                                                                                  \n4                                                                                ...                                                                                  \n\n                                                                                                                                                          DP03_0135PE  \\\n  Percent Estimate!!PERCENTAGE OF FAMILIES AND PEOPLE WHOSE INCOME IN THE PAST 12 MONTHS IS BELOW THE POVERTY LEVEL!!All people!!18 years and over!!65 years and over   \n0                                                  -                                                                                                                    \n1                                               12.5                                                                                                                    \n2                                               14.4                                                                                                                    \n3                                               22.9                                                                                                                    \n4                                               34.2                                                                                                                    \n\n                                                                                                                                                                 DP03_0135PM  \\\n  Percent Margin of Error!!PERCENTAGE OF FAMILIES AND PEOPLE WHOSE INCOME IN THE PAST 12 MONTHS IS BELOW THE POVERTY LEVEL!!All people!!18 years and over!!65 years and over   \n0                                                 **                                                                                                                           \n1                                                7.3                                                                                                                           \n2                                                9.3                                                                                                                           \n3                                                9.7                                                                                                                           \n4                                               24.6                                                                                                                           \n\n                                                                                                                     DP03_0136E  \\\n  Estimate!!PERCENTAGE OF FAMILIES AND PEOPLE WHOSE INCOME IN THE PAST 12 MONTHS IS BELOW THE POVERTY LEVEL!!People in families   \n0                                                (X)                                                                              \n1                                                (X)                                                                              \n2                                                (X)                                                                              \n3                                                (X)                                                                              \n4                                                (X)                                                                              \n\n                                                                                                                            DP03_0136M  \\\n  Margin of Error!!PERCENTAGE OF FAMILIES AND PEOPLE WHOSE INCOME IN THE PAST 12 MONTHS IS BELOW THE POVERTY LEVEL!!People in families   \n0                                                (X)                                                                                     \n1                                                (X)                                                                                     \n2                                                (X)                                                                                     \n3                                                (X)                                                                                     \n4                                                (X)                                                                                     \n\n                                                                                                                            DP03_0136PE  \\\n  Percent Estimate!!PERCENTAGE OF FAMILIES AND PEOPLE WHOSE INCOME IN THE PAST 12 MONTHS IS BELOW THE POVERTY LEVEL!!People in families   \n0                                                  -                                                                                      \n1                                               16.2                                                                                      \n2                                                7.3                                                                                      \n3                                               21.2                                                                                      \n4                                               23.9                                                                                      \n\n                                                                                                                                   DP03_0136PM  \\\n  Percent Margin of Error!!PERCENTAGE OF FAMILIES AND PEOPLE WHOSE INCOME IN THE PAST 12 MONTHS IS BELOW THE POVERTY LEVEL!!People in families   \n0                                                 **                                                                                             \n1                                               10.0                                                                                             \n2                                                4.7                                                                                             \n3                                                8.7                                                                                             \n4                                                8.1                                                                                             \n\n                                                                                                                                          DP03_0137E  \\\n  Estimate!!PERCENTAGE OF FAMILIES AND PEOPLE WHOSE INCOME IN THE PAST 12 MONTHS IS BELOW THE POVERTY LEVEL!!Unrelated individuals 15 years and over   \n0                                                (X)                                                                                                   \n1                                                (X)                                                                                                   \n2                                                (X)                                                                                                   \n3                                                (X)                                                                                                   \n4                                                (X)                                                                                                   \n\n                                                                                                                                                 DP03_0137M  \\\n  Margin of Error!!PERCENTAGE OF FAMILIES AND PEOPLE WHOSE INCOME IN THE PAST 12 MONTHS IS BELOW THE POVERTY LEVEL!!Unrelated individuals 15 years and over   \n0                                                (X)                                                                                                          \n1                                                (X)                                                                                                          \n2                                                (X)                                                                                                          \n3                                                (X)                                                                                                          \n4                                                (X)                                                                                                          \n\n                                                                                                                                                 DP03_0137PE  \\\n  Percent Estimate!!PERCENTAGE OF FAMILIES AND PEOPLE WHOSE INCOME IN THE PAST 12 MONTHS IS BELOW THE POVERTY LEVEL!!Unrelated individuals 15 years and over   \n0                                                  -                                                                                                           \n1                                               48.8                                                                                                           \n2                                               21.5                                                                                                           \n3                                               28.9                                                                                                           \n4                                               45.9                                                                                                           \n\n                                                                                                                                                        DP03_0137PM  \n  Percent Margin of Error!!PERCENTAGE OF FAMILIES AND PEOPLE WHOSE INCOME IN THE PAST 12 MONTHS IS BELOW THE POVERTY LEVEL!!Unrelated individuals 15 years and over  \n0                                                 **                                                                                                                 \n1                                               11.3                                                                                                                 \n2                                               10.9                                                                                                                 \n3                                               10.2                                                                                                                 \n4                                               13.6                                                                                                                 \n\n[5 rows x 550 columns]",
      "text/html": "<div>\n<style scoped>\n    .dataframe tbody tr th:only-of-type {\n        vertical-align: middle;\n    }\n\n    .dataframe tbody tr th {\n        vertical-align: top;\n    }\n\n    .dataframe thead tr th {\n        text-align: left;\n    }\n</style>\n<table border=\"1\" class=\"dataframe\">\n  <thead>\n    <tr>\n      <th></th>\n      <th>GEO_ID</th>\n      <th>NAME</th>\n      <th>DP03_0001E</th>\n      <th>DP03_0001M</th>\n      <th>DP03_0001PE</th>\n      <th>DP03_0001PM</th>\n      <th>DP03_0002E</th>\n      <th>DP03_0002M</th>\n      <th>DP03_0002PE</th>\n      <th>DP03_0002PM</th>\n      <th>...</th>\n      <th>DP03_0135PE</th>\n      <th>DP03_0135PM</th>\n      <th>DP03_0136E</th>\n      <th>DP03_0136M</th>\n      <th>DP03_0136PE</th>\n      <th>DP03_0136PM</th>\n      <th>DP03_0137E</th>\n      <th>DP03_0137M</th>\n      <th>DP03_0137PE</th>\n      <th>DP03_0137PM</th>\n    </tr>\n    <tr>\n      <th></th>\n      <th>id</th>\n      <th>Geographic Area Name</th>\n      <th>Estimate!!EMPLOYMENT STATUS!!Population 16 years and over</th>\n      <th>Margin of Error!!EMPLOYMENT STATUS!!Population 16 years and over</th>\n      <th>Percent Estimate!!EMPLOYMENT STATUS!!Population 16 years and over</th>\n      <th>Percent Margin of Error!!EMPLOYMENT STATUS!!Population 16 years and over</th>\n      <th>Estimate!!EMPLOYMENT STATUS!!Population 16 years and over!!In labor force</th>\n      <th>Margin of Error!!EMPLOYMENT STATUS!!Population 16 years and over!!In labor force</th>\n      <th>Percent Estimate!!EMPLOYMENT STATUS!!Population 16 years and over!!In labor force</th>\n      <th>Percent Margin of Error!!EMPLOYMENT STATUS!!Population 16 years and over!!In labor force</th>\n      <th>...</th>\n      <th>Percent Estimate!!PERCENTAGE OF FAMILIES AND PEOPLE WHOSE INCOME IN THE PAST 12 MONTHS IS BELOW THE POVERTY LEVEL!!All people!!18 years and over!!65 years and over</th>\n      <th>Percent Margin of Error!!PERCENTAGE OF FAMILIES AND PEOPLE WHOSE INCOME IN THE PAST 12 MONTHS IS BELOW THE POVERTY LEVEL!!All people!!18 years and over!!65 years and over</th>\n      <th>Estimate!!PERCENTAGE OF FAMILIES AND PEOPLE WHOSE INCOME IN THE PAST 12 MONTHS IS BELOW THE POVERTY LEVEL!!People in families</th>\n      <th>Margin of Error!!PERCENTAGE OF FAMILIES AND PEOPLE WHOSE INCOME IN THE PAST 12 MONTHS IS BELOW THE POVERTY LEVEL!!People in families</th>\n      <th>Percent Estimate!!PERCENTAGE OF FAMILIES AND PEOPLE WHOSE INCOME IN THE PAST 12 MONTHS IS BELOW THE POVERTY LEVEL!!People in families</th>\n      <th>Percent Margin of Error!!PERCENTAGE OF FAMILIES AND PEOPLE WHOSE INCOME IN THE PAST 12 MONTHS IS BELOW THE POVERTY LEVEL!!People in families</th>\n      <th>Estimate!!PERCENTAGE OF FAMILIES AND PEOPLE WHOSE INCOME IN THE PAST 12 MONTHS IS BELOW THE POVERTY LEVEL!!Unrelated individuals 15 years and over</th>\n      <th>Margin of Error!!PERCENTAGE OF FAMILIES AND PEOPLE WHOSE INCOME IN THE PAST 12 MONTHS IS BELOW THE POVERTY LEVEL!!Unrelated individuals 15 years and over</th>\n      <th>Percent Estimate!!PERCENTAGE OF FAMILIES AND PEOPLE WHOSE INCOME IN THE PAST 12 MONTHS IS BELOW THE POVERTY LEVEL!!Unrelated individuals 15 years and over</th>\n      <th>Percent Margin of Error!!PERCENTAGE OF FAMILIES AND PEOPLE WHOSE INCOME IN THE PAST 12 MONTHS IS BELOW THE POVERTY LEVEL!!Unrelated individuals 15 years and over</th>\n    </tr>\n  </thead>\n  <tbody>\n    <tr>\n      <th>0</th>\n      <td>1400000US36005000100</td>\n      <td>Census Tract 1, Bronx County, New York</td>\n      <td>7080</td>\n      <td>290</td>\n      <td>7080</td>\n      <td>(X)</td>\n      <td>0</td>\n      <td>17</td>\n      <td>0.0</td>\n      <td>0.5</td>\n      <td>...</td>\n      <td>-</td>\n      <td>**</td>\n      <td>(X)</td>\n      <td>(X)</td>\n      <td>-</td>\n      <td>**</td>\n      <td>(X)</td>\n      <td>(X)</td>\n      <td>-</td>\n      <td>**</td>\n    </tr>\n    <tr>\n      <th>1</th>\n      <td>1400000US36005000200</td>\n      <td>Census Tract 2, Bronx County, New York</td>\n      <td>3684</td>\n      <td>491</td>\n      <td>3684</td>\n      <td>(X)</td>\n      <td>1873</td>\n      <td>296</td>\n      <td>50.8</td>\n      <td>6.7</td>\n      <td>...</td>\n      <td>12.5</td>\n      <td>7.3</td>\n      <td>(X)</td>\n      <td>(X)</td>\n      <td>16.2</td>\n      <td>10.0</td>\n      <td>(X)</td>\n      <td>(X)</td>\n      <td>48.8</td>\n      <td>11.3</td>\n    </tr>\n    <tr>\n      <th>2</th>\n      <td>1400000US36005000400</td>\n      <td>Census Tract 4, Bronx County, New York</td>\n      <td>4689</td>\n      <td>425</td>\n      <td>4689</td>\n      <td>(X)</td>\n      <td>3052</td>\n      <td>385</td>\n      <td>65.1</td>\n      <td>5.1</td>\n      <td>...</td>\n      <td>14.4</td>\n      <td>9.3</td>\n      <td>(X)</td>\n      <td>(X)</td>\n      <td>7.3</td>\n      <td>4.7</td>\n      <td>(X)</td>\n      <td>(X)</td>\n      <td>21.5</td>\n      <td>10.9</td>\n    </tr>\n    <tr>\n      <th>3</th>\n      <td>1400000US36005001600</td>\n      <td>Census Tract 16, Bronx County, New York</td>\n      <td>4598</td>\n      <td>351</td>\n      <td>4598</td>\n      <td>(X)</td>\n      <td>2477</td>\n      <td>266</td>\n      <td>53.9</td>\n      <td>4.5</td>\n      <td>...</td>\n      <td>22.9</td>\n      <td>9.7</td>\n      <td>(X)</td>\n      <td>(X)</td>\n      <td>21.2</td>\n      <td>8.7</td>\n      <td>(X)</td>\n      <td>(X)</td>\n      <td>28.9</td>\n      <td>10.2</td>\n    </tr>\n    <tr>\n      <th>4</th>\n      <td>1400000US36005001900</td>\n      <td>Census Tract 19, Bronx County, New York</td>\n      <td>2066</td>\n      <td>266</td>\n      <td>2066</td>\n      <td>(X)</td>\n      <td>1458</td>\n      <td>203</td>\n      <td>70.6</td>\n      <td>6.1</td>\n      <td>...</td>\n      <td>34.2</td>\n      <td>24.6</td>\n      <td>(X)</td>\n      <td>(X)</td>\n      <td>23.9</td>\n      <td>8.1</td>\n      <td>(X)</td>\n      <td>(X)</td>\n      <td>45.9</td>\n      <td>13.6</td>\n    </tr>\n  </tbody>\n</table>\n<p>5 rows × 550 columns</p>\n</div>"
     },
     "metadata": {},
     "execution_count": 9
    }
   ],
   "source": [
    "survey.head()"
   ]
  },
  {
   "cell_type": "markdown",
   "metadata": {},
   "source": [
    "# Step 1: \n",
    "pick out relevant columns columns to keep\n",
    "\n"
   ]
  },
  {
   "cell_type": "code",
   "execution_count": 10,
   "metadata": {},
   "outputs": [],
   "source": [
    "columnsToKeep= [\n",
    "    \"GEO_ID\",\n",
    "    \"NAME\",\n",
    "    \n",
    "    # Employment status\n",
    "    \"DP03_0001E\", # population 16 years and over\n",
    "    \"DP03_0002PE\", # % population 16 + in labor force\n",
    "    \"DP03_0007PE\", # % population 16 + not in labor force\n",
    "    \"DP03_0013PE\", # % females 16 + employed in civilian labor force\n",
    "    \"DP03_0015PE\", # % parents of children under 6 years old, where both parents in labor force\n",
    "    \"DP03_0017PE\", # % parents of children 6-17, where all parents are in labor force\n",
    "\n",
    "    # Commuting to work\n",
    "    \"DP03_0021PE\", # % commuting to work via public transportation (excluding taxicab)\n",
    "    \"DP03_0025E\", # mean travel time to work (minutes) \n",
    "\n",
    "    # Occupation\n",
    "    \"DP03_0027PE\", # % population employed in Management, business, science and arts\n",
    "    \"DP03_0028PE\", # % population employed in service occupations\n",
    "    \"DP03_0029PE\", # % population employed in sales and office occupations\n",
    "    \"DP03_0031PE\", # % population employed in production, transportation, material moving occupations\n",
    "\n",
    "    # Industry\n",
    "    \"DP03_0041PE\", # % population employed in Professional, scientific, and management, and administrative and waste management services\n",
    "    \"DP03_0042PE\", # % population employed in Educational services, and health care and social assistance\n",
    "    \"DP03_0043PE\", # % population employed in Arts, entertainment, and recreation, and accommodation and food services\n",
    "    \"DP03_0045PE\", # % population employed in Public administration\n",
    "\n",
    "    # Income and benefits\n",
    "    \"DP03_0062E\", # median household income ($)\n",
    "    \"DP03_0063E\", # mean household income ($)\n",
    "    \"DP03_0074PE\", # % with Food Stamps/SNAP benefits in last 12 months\n",
    "    \"DP03_0088E\", # per capita income ($)\n",
    "    \"DP03_0092E\", # median earnings for workers ($)\n",
    "    \"DP03_0093E\", # median earnings for male full-time workers ($)\n",
    "    \"DP03_0094E\", # median earnings for female full-time workers ($)\n",
    "\n",
    "    # Health Insurance\n",
    "    \"DP03_0096PE\", # % with health insurance\n",
    "    \"DP03_0097PE\", # % with health insurance who have private insurance\n",
    "    \"DP03_0098PE\", # % with health insurance who have public insurance\n",
    "    \"DP03_0099E\", # population with no health insurance coverage\n",
    "    \"DP03_0099PE\", # % with no health insurance coverage\n",
    "    \"DP03_0108PE\", # % employed in labor force with no health insurance \n",
    "    \"DP03_0113PE\", # % unemployed in labor force with no health insurance \n",
    "    \"DP03_0118PE\", # % not in labor force with no health insurance \n",
    "]"
   ]
  },
  {
   "cell_type": "code",
   "execution_count": 11,
   "metadata": {},
   "outputs": [],
   "source": [
    "survey = survey[columnsToKeep]\n",
    "survey.columns = survey.columns.droplevel(-1)"
   ]
  },
  {
   "cell_type": "code",
   "execution_count": 15,
   "metadata": {},
   "outputs": [],
   "source": [
    "# strip off tract id\n",
    "# ref: GEOIDS in Downloads from data.census.gov (last section)\n",
    "survey[\"tract_id\"] = survey[\"GEO_ID\"].str[-6:]"
   ]
  },
  {
   "cell_type": "code",
   "execution_count": 17,
   "metadata": {},
   "outputs": [],
   "source": [
    "# save csv of tract > properties\n",
    "survey.to_csv(\"../data/output/acsCleaned.csv\", index=False)"
   ]
  },
  {
   "cell_type": "markdown",
   "metadata": {},
   "source": [
    "# Step 2: \n",
    "merge in properties to tract shapefile"
   ]
  },
  {
   "cell_type": "code",
   "execution_count": 19,
   "metadata": {},
   "outputs": [],
   "source": [
    "tracts = geopandas.read_file(\"../data/CensusTracts/geo_export_a7ef6b7d-a2a7-4254-9883-c91526ccfbe0.shp\")"
   ]
  },
  {
   "cell_type": "code",
   "execution_count": 20,
   "metadata": {},
   "outputs": [
    {
     "output_type": "execute_result",
     "data": {
      "text/plain": "  boro_code boro_ct201      boro_name cdeligibil  ct2010 ctlabel ntacode  \\\n0         5    5000900  Staten Island          E  000900       9    SI22   \n1         1    1009800      Manhattan          I  009800      98    MN19   \n2         1    1010000      Manhattan          I  010000     100    MN19   \n3         1    1010200      Manhattan          I  010200     102    MN17   \n4         1    1010400      Manhattan          I  010400     104    MN17   \n\n                                     ntaname  puma    shape_area   shape_leng  \\\n0  West New Brighton-New Brighton-St. George  3903  2.497010e+06  7729.016794   \n1                    Turtle Bay-East Midtown  3808  1.906016e+06  5534.199811   \n2                    Turtle Bay-East Midtown  3808  1.860938e+06  5692.168737   \n3                      Midtown-Midtown South  3807  1.860993e+06  5687.802439   \n4                      Midtown-Midtown South  3807  1.864600e+06  5693.036367   \n\n                                            geometry  \n0  POLYGON ((-74.07920577013245 40.64343078374567...  \n1  POLYGON ((-73.96432543478758 40.75638153099091...  \n2  POLYGON ((-73.96802436915851 40.75957814005282...  \n3  POLYGON ((-73.97124277307127 40.76093641847906...  \n4  POLYGON ((-73.97445730550224 40.76229308352487...  ",
      "text/html": "<div>\n<style scoped>\n    .dataframe tbody tr th:only-of-type {\n        vertical-align: middle;\n    }\n\n    .dataframe tbody tr th {\n        vertical-align: top;\n    }\n\n    .dataframe thead th {\n        text-align: right;\n    }\n</style>\n<table border=\"1\" class=\"dataframe\">\n  <thead>\n    <tr style=\"text-align: right;\">\n      <th></th>\n      <th>boro_code</th>\n      <th>boro_ct201</th>\n      <th>boro_name</th>\n      <th>cdeligibil</th>\n      <th>ct2010</th>\n      <th>ctlabel</th>\n      <th>ntacode</th>\n      <th>ntaname</th>\n      <th>puma</th>\n      <th>shape_area</th>\n      <th>shape_leng</th>\n      <th>geometry</th>\n    </tr>\n  </thead>\n  <tbody>\n    <tr>\n      <th>0</th>\n      <td>5</td>\n      <td>5000900</td>\n      <td>Staten Island</td>\n      <td>E</td>\n      <td>000900</td>\n      <td>9</td>\n      <td>SI22</td>\n      <td>West New Brighton-New Brighton-St. George</td>\n      <td>3903</td>\n      <td>2.497010e+06</td>\n      <td>7729.016794</td>\n      <td>POLYGON ((-74.07920577013245 40.64343078374567...</td>\n    </tr>\n    <tr>\n      <th>1</th>\n      <td>1</td>\n      <td>1009800</td>\n      <td>Manhattan</td>\n      <td>I</td>\n      <td>009800</td>\n      <td>98</td>\n      <td>MN19</td>\n      <td>Turtle Bay-East Midtown</td>\n      <td>3808</td>\n      <td>1.906016e+06</td>\n      <td>5534.199811</td>\n      <td>POLYGON ((-73.96432543478758 40.75638153099091...</td>\n    </tr>\n    <tr>\n      <th>2</th>\n      <td>1</td>\n      <td>1010000</td>\n      <td>Manhattan</td>\n      <td>I</td>\n      <td>010000</td>\n      <td>100</td>\n      <td>MN19</td>\n      <td>Turtle Bay-East Midtown</td>\n      <td>3808</td>\n      <td>1.860938e+06</td>\n      <td>5692.168737</td>\n      <td>POLYGON ((-73.96802436915851 40.75957814005282...</td>\n    </tr>\n    <tr>\n      <th>3</th>\n      <td>1</td>\n      <td>1010200</td>\n      <td>Manhattan</td>\n      <td>I</td>\n      <td>010200</td>\n      <td>102</td>\n      <td>MN17</td>\n      <td>Midtown-Midtown South</td>\n      <td>3807</td>\n      <td>1.860993e+06</td>\n      <td>5687.802439</td>\n      <td>POLYGON ((-73.97124277307127 40.76093641847906...</td>\n    </tr>\n    <tr>\n      <th>4</th>\n      <td>1</td>\n      <td>1010400</td>\n      <td>Manhattan</td>\n      <td>I</td>\n      <td>010400</td>\n      <td>104</td>\n      <td>MN17</td>\n      <td>Midtown-Midtown South</td>\n      <td>3807</td>\n      <td>1.864600e+06</td>\n      <td>5693.036367</td>\n      <td>POLYGON ((-73.97445730550224 40.76229308352487...</td>\n    </tr>\n  </tbody>\n</table>\n</div>"
     },
     "metadata": {},
     "execution_count": 20
    }
   ],
   "source": [
    "tracts.head()"
   ]
  },
  {
   "cell_type": "code",
   "execution_count": 21,
   "metadata": {},
   "outputs": [],
   "source": [
    "tracts_with_attributes = tracts.merge(survey, left_on=\"ct2010\", right_on=\"tract_id\")"
   ]
  },
  {
   "cell_type": "code",
   "execution_count": 31,
   "metadata": {},
   "outputs": [],
   "source": [
    "tracts_with_attributes.to_file(\"../data/output/acsTracsWithAttributes/acsTracsWithAttributes.shp\")"
   ]
  },
  {
   "cell_type": "code",
   "execution_count": null,
   "metadata": {},
   "outputs": [],
   "source": []
  }
 ],
 "metadata": {
  "kernelspec": {
   "display_name": "Python 3.7.1 64-bit ('base': conda)",
   "language": "python",
   "name": "python37164bitbaseconda04659184937c46f9a0b6ad1d38ad8503"
  },
  "language_info": {
   "codemirror_mode": {
    "name": "ipython",
    "version": 3
   },
   "file_extension": ".py",
   "mimetype": "text/x-python",
   "name": "python",
   "nbconvert_exporter": "python",
   "pygments_lexer": "ipython3",
   "version": "3.7.1-final"
  }
 },
 "nbformat": 4,
 "nbformat_minor": 2
}